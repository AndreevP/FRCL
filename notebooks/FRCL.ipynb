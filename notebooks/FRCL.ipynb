{
  "nbformat": 4,
  "nbformat_minor": 0,
  "metadata": {
    "kernelspec": {
      "display_name": "Python 3",
      "language": "python",
      "name": "python3"
    },
    "language_info": {
      "codemirror_mode": {
        "name": "ipython",
        "version": 3
      },
      "file_extension": ".py",
      "mimetype": "text/x-python",
      "name": "python",
      "nbconvert_exporter": "python",
      "pygments_lexer": "ipython3",
      "version": "3.7.3"
    },
    "colab": {
      "name": "FRCL.ipynb",
      "provenance": [],
      "collapsed_sections": []
    },
    "accelerator": "GPU",
    "widgets": {
      "application/vnd.jupyter.widget-state+json": {
        "36ebb4075bf54d798355da10fafa74e7": {
          "model_module": "@jupyter-widgets/controls",
          "model_name": "HBoxModel",
          "state": {
            "_view_name": "HBoxView",
            "_dom_classes": [],
            "_model_name": "HBoxModel",
            "_view_module": "@jupyter-widgets/controls",
            "_model_module_version": "1.5.0",
            "_view_count": null,
            "_view_module_version": "1.5.0",
            "box_style": "",
            "layout": "IPY_MODEL_7c21b442085148b986e84ba2581dbf20",
            "_model_module": "@jupyter-widgets/controls",
            "children": [
              "IPY_MODEL_d26a83e9feab4fdfb1cdc23b45c85c7e",
              "IPY_MODEL_33d4fbfb5937484c9e6f8fea4919f746"
            ]
          }
        },
        "7c21b442085148b986e84ba2581dbf20": {
          "model_module": "@jupyter-widgets/base",
          "model_name": "LayoutModel",
          "state": {
            "_view_name": "LayoutView",
            "grid_template_rows": null,
            "right": null,
            "justify_content": null,
            "_view_module": "@jupyter-widgets/base",
            "overflow": null,
            "_model_module_version": "1.2.0",
            "_view_count": null,
            "flex_flow": null,
            "width": null,
            "min_width": null,
            "border": null,
            "align_items": null,
            "bottom": null,
            "_model_module": "@jupyter-widgets/base",
            "top": null,
            "grid_column": null,
            "overflow_y": null,
            "overflow_x": null,
            "grid_auto_flow": null,
            "grid_area": null,
            "grid_template_columns": null,
            "flex": null,
            "_model_name": "LayoutModel",
            "justify_items": null,
            "grid_row": null,
            "max_height": null,
            "align_content": null,
            "visibility": null,
            "align_self": null,
            "height": null,
            "min_height": null,
            "padding": null,
            "grid_auto_rows": null,
            "grid_gap": null,
            "max_width": null,
            "order": null,
            "_view_module_version": "1.2.0",
            "grid_template_areas": null,
            "object_position": null,
            "object_fit": null,
            "grid_auto_columns": null,
            "margin": null,
            "display": null,
            "left": null
          }
        },
        "d26a83e9feab4fdfb1cdc23b45c85c7e": {
          "model_module": "@jupyter-widgets/controls",
          "model_name": "FloatProgressModel",
          "state": {
            "_view_name": "ProgressView",
            "style": "IPY_MODEL_818cefe0dfcf4a29a31d0dd38e9b4560",
            "_dom_classes": [],
            "description": "",
            "_model_name": "FloatProgressModel",
            "bar_style": "success",
            "max": 1,
            "_view_module": "@jupyter-widgets/controls",
            "_model_module_version": "1.5.0",
            "value": 1,
            "_view_count": null,
            "_view_module_version": "1.5.0",
            "orientation": "horizontal",
            "min": 0,
            "description_tooltip": null,
            "_model_module": "@jupyter-widgets/controls",
            "layout": "IPY_MODEL_b1496584626648038b6b86edee733f43"
          }
        },
        "33d4fbfb5937484c9e6f8fea4919f746": {
          "model_module": "@jupyter-widgets/controls",
          "model_name": "HTMLModel",
          "state": {
            "_view_name": "HTMLView",
            "style": "IPY_MODEL_163a35560f754987ba7ffa8c8ee08848",
            "_dom_classes": [],
            "description": "",
            "_model_name": "HTMLModel",
            "placeholder": "​",
            "_view_module": "@jupyter-widgets/controls",
            "_model_module_version": "1.5.0",
            "value": " 9920512/? [00:03&lt;00:00, 2655501.88it/s]",
            "_view_count": null,
            "_view_module_version": "1.5.0",
            "description_tooltip": null,
            "_model_module": "@jupyter-widgets/controls",
            "layout": "IPY_MODEL_477eb354b77b4d9094534ec52563eaba"
          }
        },
        "818cefe0dfcf4a29a31d0dd38e9b4560": {
          "model_module": "@jupyter-widgets/controls",
          "model_name": "ProgressStyleModel",
          "state": {
            "_view_name": "StyleView",
            "_model_name": "ProgressStyleModel",
            "description_width": "initial",
            "_view_module": "@jupyter-widgets/base",
            "_model_module_version": "1.5.0",
            "_view_count": null,
            "_view_module_version": "1.2.0",
            "bar_color": null,
            "_model_module": "@jupyter-widgets/controls"
          }
        },
        "b1496584626648038b6b86edee733f43": {
          "model_module": "@jupyter-widgets/base",
          "model_name": "LayoutModel",
          "state": {
            "_view_name": "LayoutView",
            "grid_template_rows": null,
            "right": null,
            "justify_content": null,
            "_view_module": "@jupyter-widgets/base",
            "overflow": null,
            "_model_module_version": "1.2.0",
            "_view_count": null,
            "flex_flow": null,
            "width": null,
            "min_width": null,
            "border": null,
            "align_items": null,
            "bottom": null,
            "_model_module": "@jupyter-widgets/base",
            "top": null,
            "grid_column": null,
            "overflow_y": null,
            "overflow_x": null,
            "grid_auto_flow": null,
            "grid_area": null,
            "grid_template_columns": null,
            "flex": null,
            "_model_name": "LayoutModel",
            "justify_items": null,
            "grid_row": null,
            "max_height": null,
            "align_content": null,
            "visibility": null,
            "align_self": null,
            "height": null,
            "min_height": null,
            "padding": null,
            "grid_auto_rows": null,
            "grid_gap": null,
            "max_width": null,
            "order": null,
            "_view_module_version": "1.2.0",
            "grid_template_areas": null,
            "object_position": null,
            "object_fit": null,
            "grid_auto_columns": null,
            "margin": null,
            "display": null,
            "left": null
          }
        },
        "163a35560f754987ba7ffa8c8ee08848": {
          "model_module": "@jupyter-widgets/controls",
          "model_name": "DescriptionStyleModel",
          "state": {
            "_view_name": "StyleView",
            "_model_name": "DescriptionStyleModel",
            "description_width": "",
            "_view_module": "@jupyter-widgets/base",
            "_model_module_version": "1.5.0",
            "_view_count": null,
            "_view_module_version": "1.2.0",
            "_model_module": "@jupyter-widgets/controls"
          }
        },
        "477eb354b77b4d9094534ec52563eaba": {
          "model_module": "@jupyter-widgets/base",
          "model_name": "LayoutModel",
          "state": {
            "_view_name": "LayoutView",
            "grid_template_rows": null,
            "right": null,
            "justify_content": null,
            "_view_module": "@jupyter-widgets/base",
            "overflow": null,
            "_model_module_version": "1.2.0",
            "_view_count": null,
            "flex_flow": null,
            "width": null,
            "min_width": null,
            "border": null,
            "align_items": null,
            "bottom": null,
            "_model_module": "@jupyter-widgets/base",
            "top": null,
            "grid_column": null,
            "overflow_y": null,
            "overflow_x": null,
            "grid_auto_flow": null,
            "grid_area": null,
            "grid_template_columns": null,
            "flex": null,
            "_model_name": "LayoutModel",
            "justify_items": null,
            "grid_row": null,
            "max_height": null,
            "align_content": null,
            "visibility": null,
            "align_self": null,
            "height": null,
            "min_height": null,
            "padding": null,
            "grid_auto_rows": null,
            "grid_gap": null,
            "max_width": null,
            "order": null,
            "_view_module_version": "1.2.0",
            "grid_template_areas": null,
            "object_position": null,
            "object_fit": null,
            "grid_auto_columns": null,
            "margin": null,
            "display": null,
            "left": null
          }
        },
        "31f44b8670de45fb9742df8251f9972b": {
          "model_module": "@jupyter-widgets/controls",
          "model_name": "HBoxModel",
          "state": {
            "_view_name": "HBoxView",
            "_dom_classes": [],
            "_model_name": "HBoxModel",
            "_view_module": "@jupyter-widgets/controls",
            "_model_module_version": "1.5.0",
            "_view_count": null,
            "_view_module_version": "1.5.0",
            "box_style": "",
            "layout": "IPY_MODEL_5b25ccb7c5a9447d888f03b09e23d3cc",
            "_model_module": "@jupyter-widgets/controls",
            "children": [
              "IPY_MODEL_aaac80db70104f56b9f6086b52423af8",
              "IPY_MODEL_172084472b8a4d73996e2ac5bef1e8a8"
            ]
          }
        },
        "5b25ccb7c5a9447d888f03b09e23d3cc": {
          "model_module": "@jupyter-widgets/base",
          "model_name": "LayoutModel",
          "state": {
            "_view_name": "LayoutView",
            "grid_template_rows": null,
            "right": null,
            "justify_content": null,
            "_view_module": "@jupyter-widgets/base",
            "overflow": null,
            "_model_module_version": "1.2.0",
            "_view_count": null,
            "flex_flow": null,
            "width": null,
            "min_width": null,
            "border": null,
            "align_items": null,
            "bottom": null,
            "_model_module": "@jupyter-widgets/base",
            "top": null,
            "grid_column": null,
            "overflow_y": null,
            "overflow_x": null,
            "grid_auto_flow": null,
            "grid_area": null,
            "grid_template_columns": null,
            "flex": null,
            "_model_name": "LayoutModel",
            "justify_items": null,
            "grid_row": null,
            "max_height": null,
            "align_content": null,
            "visibility": null,
            "align_self": null,
            "height": null,
            "min_height": null,
            "padding": null,
            "grid_auto_rows": null,
            "grid_gap": null,
            "max_width": null,
            "order": null,
            "_view_module_version": "1.2.0",
            "grid_template_areas": null,
            "object_position": null,
            "object_fit": null,
            "grid_auto_columns": null,
            "margin": null,
            "display": null,
            "left": null
          }
        },
        "aaac80db70104f56b9f6086b52423af8": {
          "model_module": "@jupyter-widgets/controls",
          "model_name": "FloatProgressModel",
          "state": {
            "_view_name": "ProgressView",
            "style": "IPY_MODEL_9ee0357d90f845ab99f6693a7bb3f34b",
            "_dom_classes": [],
            "description": "",
            "_model_name": "FloatProgressModel",
            "bar_style": "success",
            "max": 1,
            "_view_module": "@jupyter-widgets/controls",
            "_model_module_version": "1.5.0",
            "value": 1,
            "_view_count": null,
            "_view_module_version": "1.5.0",
            "orientation": "horizontal",
            "min": 0,
            "description_tooltip": null,
            "_model_module": "@jupyter-widgets/controls",
            "layout": "IPY_MODEL_9b3b81c252e446b1ad4409a6ce36b071"
          }
        },
        "172084472b8a4d73996e2ac5bef1e8a8": {
          "model_module": "@jupyter-widgets/controls",
          "model_name": "HTMLModel",
          "state": {
            "_view_name": "HTMLView",
            "style": "IPY_MODEL_a1be7e94768c42829b9b2b307e7d4761",
            "_dom_classes": [],
            "description": "",
            "_model_name": "HTMLModel",
            "placeholder": "​",
            "_view_module": "@jupyter-widgets/controls",
            "_model_module_version": "1.5.0",
            "value": " 32768/? [00:03&lt;00:00, 10503.22it/s]",
            "_view_count": null,
            "_view_module_version": "1.5.0",
            "description_tooltip": null,
            "_model_module": "@jupyter-widgets/controls",
            "layout": "IPY_MODEL_923386dab7804d119472432f9c501fad"
          }
        },
        "9ee0357d90f845ab99f6693a7bb3f34b": {
          "model_module": "@jupyter-widgets/controls",
          "model_name": "ProgressStyleModel",
          "state": {
            "_view_name": "StyleView",
            "_model_name": "ProgressStyleModel",
            "description_width": "initial",
            "_view_module": "@jupyter-widgets/base",
            "_model_module_version": "1.5.0",
            "_view_count": null,
            "_view_module_version": "1.2.0",
            "bar_color": null,
            "_model_module": "@jupyter-widgets/controls"
          }
        },
        "9b3b81c252e446b1ad4409a6ce36b071": {
          "model_module": "@jupyter-widgets/base",
          "model_name": "LayoutModel",
          "state": {
            "_view_name": "LayoutView",
            "grid_template_rows": null,
            "right": null,
            "justify_content": null,
            "_view_module": "@jupyter-widgets/base",
            "overflow": null,
            "_model_module_version": "1.2.0",
            "_view_count": null,
            "flex_flow": null,
            "width": null,
            "min_width": null,
            "border": null,
            "align_items": null,
            "bottom": null,
            "_model_module": "@jupyter-widgets/base",
            "top": null,
            "grid_column": null,
            "overflow_y": null,
            "overflow_x": null,
            "grid_auto_flow": null,
            "grid_area": null,
            "grid_template_columns": null,
            "flex": null,
            "_model_name": "LayoutModel",
            "justify_items": null,
            "grid_row": null,
            "max_height": null,
            "align_content": null,
            "visibility": null,
            "align_self": null,
            "height": null,
            "min_height": null,
            "padding": null,
            "grid_auto_rows": null,
            "grid_gap": null,
            "max_width": null,
            "order": null,
            "_view_module_version": "1.2.0",
            "grid_template_areas": null,
            "object_position": null,
            "object_fit": null,
            "grid_auto_columns": null,
            "margin": null,
            "display": null,
            "left": null
          }
        },
        "a1be7e94768c42829b9b2b307e7d4761": {
          "model_module": "@jupyter-widgets/controls",
          "model_name": "DescriptionStyleModel",
          "state": {
            "_view_name": "StyleView",
            "_model_name": "DescriptionStyleModel",
            "description_width": "",
            "_view_module": "@jupyter-widgets/base",
            "_model_module_version": "1.5.0",
            "_view_count": null,
            "_view_module_version": "1.2.0",
            "_model_module": "@jupyter-widgets/controls"
          }
        },
        "923386dab7804d119472432f9c501fad": {
          "model_module": "@jupyter-widgets/base",
          "model_name": "LayoutModel",
          "state": {
            "_view_name": "LayoutView",
            "grid_template_rows": null,
            "right": null,
            "justify_content": null,
            "_view_module": "@jupyter-widgets/base",
            "overflow": null,
            "_model_module_version": "1.2.0",
            "_view_count": null,
            "flex_flow": null,
            "width": null,
            "min_width": null,
            "border": null,
            "align_items": null,
            "bottom": null,
            "_model_module": "@jupyter-widgets/base",
            "top": null,
            "grid_column": null,
            "overflow_y": null,
            "overflow_x": null,
            "grid_auto_flow": null,
            "grid_area": null,
            "grid_template_columns": null,
            "flex": null,
            "_model_name": "LayoutModel",
            "justify_items": null,
            "grid_row": null,
            "max_height": null,
            "align_content": null,
            "visibility": null,
            "align_self": null,
            "height": null,
            "min_height": null,
            "padding": null,
            "grid_auto_rows": null,
            "grid_gap": null,
            "max_width": null,
            "order": null,
            "_view_module_version": "1.2.0",
            "grid_template_areas": null,
            "object_position": null,
            "object_fit": null,
            "grid_auto_columns": null,
            "margin": null,
            "display": null,
            "left": null
          }
        },
        "5c0399f84fc44cdabe06f4c14d86231f": {
          "model_module": "@jupyter-widgets/controls",
          "model_name": "HBoxModel",
          "state": {
            "_view_name": "HBoxView",
            "_dom_classes": [],
            "_model_name": "HBoxModel",
            "_view_module": "@jupyter-widgets/controls",
            "_model_module_version": "1.5.0",
            "_view_count": null,
            "_view_module_version": "1.5.0",
            "box_style": "",
            "layout": "IPY_MODEL_44a5a186786f4d6ba65cca07ab9b19b1",
            "_model_module": "@jupyter-widgets/controls",
            "children": [
              "IPY_MODEL_23e98fc53ff247b9938aa3cb974f5592",
              "IPY_MODEL_034f6d43bf994ccebf6311ebd2df0af8"
            ]
          }
        },
        "44a5a186786f4d6ba65cca07ab9b19b1": {
          "model_module": "@jupyter-widgets/base",
          "model_name": "LayoutModel",
          "state": {
            "_view_name": "LayoutView",
            "grid_template_rows": null,
            "right": null,
            "justify_content": null,
            "_view_module": "@jupyter-widgets/base",
            "overflow": null,
            "_model_module_version": "1.2.0",
            "_view_count": null,
            "flex_flow": null,
            "width": null,
            "min_width": null,
            "border": null,
            "align_items": null,
            "bottom": null,
            "_model_module": "@jupyter-widgets/base",
            "top": null,
            "grid_column": null,
            "overflow_y": null,
            "overflow_x": null,
            "grid_auto_flow": null,
            "grid_area": null,
            "grid_template_columns": null,
            "flex": null,
            "_model_name": "LayoutModel",
            "justify_items": null,
            "grid_row": null,
            "max_height": null,
            "align_content": null,
            "visibility": null,
            "align_self": null,
            "height": null,
            "min_height": null,
            "padding": null,
            "grid_auto_rows": null,
            "grid_gap": null,
            "max_width": null,
            "order": null,
            "_view_module_version": "1.2.0",
            "grid_template_areas": null,
            "object_position": null,
            "object_fit": null,
            "grid_auto_columns": null,
            "margin": null,
            "display": null,
            "left": null
          }
        },
        "23e98fc53ff247b9938aa3cb974f5592": {
          "model_module": "@jupyter-widgets/controls",
          "model_name": "FloatProgressModel",
          "state": {
            "_view_name": "ProgressView",
            "style": "IPY_MODEL_87d3672aec794d8089a5617d7c1a97c5",
            "_dom_classes": [],
            "description": "",
            "_model_name": "FloatProgressModel",
            "bar_style": "success",
            "max": 1,
            "_view_module": "@jupyter-widgets/controls",
            "_model_module_version": "1.5.0",
            "value": 1,
            "_view_count": null,
            "_view_module_version": "1.5.0",
            "orientation": "horizontal",
            "min": 0,
            "description_tooltip": null,
            "_model_module": "@jupyter-widgets/controls",
            "layout": "IPY_MODEL_b4e4cf3007414bdda6405988f905ca9b"
          }
        },
        "034f6d43bf994ccebf6311ebd2df0af8": {
          "model_module": "@jupyter-widgets/controls",
          "model_name": "HTMLModel",
          "state": {
            "_view_name": "HTMLView",
            "style": "IPY_MODEL_e20938c5bf104cdbba40492e75ce028b",
            "_dom_classes": [],
            "description": "",
            "_model_name": "HTMLModel",
            "placeholder": "​",
            "_view_module": "@jupyter-widgets/controls",
            "_model_module_version": "1.5.0",
            "value": " 1654784/? [00:01&lt;00:00, 1031578.14it/s]",
            "_view_count": null,
            "_view_module_version": "1.5.0",
            "description_tooltip": null,
            "_model_module": "@jupyter-widgets/controls",
            "layout": "IPY_MODEL_1dc4e7a8a80440c5b082cfc1460c8c62"
          }
        },
        "87d3672aec794d8089a5617d7c1a97c5": {
          "model_module": "@jupyter-widgets/controls",
          "model_name": "ProgressStyleModel",
          "state": {
            "_view_name": "StyleView",
            "_model_name": "ProgressStyleModel",
            "description_width": "initial",
            "_view_module": "@jupyter-widgets/base",
            "_model_module_version": "1.5.0",
            "_view_count": null,
            "_view_module_version": "1.2.0",
            "bar_color": null,
            "_model_module": "@jupyter-widgets/controls"
          }
        },
        "b4e4cf3007414bdda6405988f905ca9b": {
          "model_module": "@jupyter-widgets/base",
          "model_name": "LayoutModel",
          "state": {
            "_view_name": "LayoutView",
            "grid_template_rows": null,
            "right": null,
            "justify_content": null,
            "_view_module": "@jupyter-widgets/base",
            "overflow": null,
            "_model_module_version": "1.2.0",
            "_view_count": null,
            "flex_flow": null,
            "width": null,
            "min_width": null,
            "border": null,
            "align_items": null,
            "bottom": null,
            "_model_module": "@jupyter-widgets/base",
            "top": null,
            "grid_column": null,
            "overflow_y": null,
            "overflow_x": null,
            "grid_auto_flow": null,
            "grid_area": null,
            "grid_template_columns": null,
            "flex": null,
            "_model_name": "LayoutModel",
            "justify_items": null,
            "grid_row": null,
            "max_height": null,
            "align_content": null,
            "visibility": null,
            "align_self": null,
            "height": null,
            "min_height": null,
            "padding": null,
            "grid_auto_rows": null,
            "grid_gap": null,
            "max_width": null,
            "order": null,
            "_view_module_version": "1.2.0",
            "grid_template_areas": null,
            "object_position": null,
            "object_fit": null,
            "grid_auto_columns": null,
            "margin": null,
            "display": null,
            "left": null
          }
        },
        "e20938c5bf104cdbba40492e75ce028b": {
          "model_module": "@jupyter-widgets/controls",
          "model_name": "DescriptionStyleModel",
          "state": {
            "_view_name": "StyleView",
            "_model_name": "DescriptionStyleModel",
            "description_width": "",
            "_view_module": "@jupyter-widgets/base",
            "_model_module_version": "1.5.0",
            "_view_count": null,
            "_view_module_version": "1.2.0",
            "_model_module": "@jupyter-widgets/controls"
          }
        },
        "1dc4e7a8a80440c5b082cfc1460c8c62": {
          "model_module": "@jupyter-widgets/base",
          "model_name": "LayoutModel",
          "state": {
            "_view_name": "LayoutView",
            "grid_template_rows": null,
            "right": null,
            "justify_content": null,
            "_view_module": "@jupyter-widgets/base",
            "overflow": null,
            "_model_module_version": "1.2.0",
            "_view_count": null,
            "flex_flow": null,
            "width": null,
            "min_width": null,
            "border": null,
            "align_items": null,
            "bottom": null,
            "_model_module": "@jupyter-widgets/base",
            "top": null,
            "grid_column": null,
            "overflow_y": null,
            "overflow_x": null,
            "grid_auto_flow": null,
            "grid_area": null,
            "grid_template_columns": null,
            "flex": null,
            "_model_name": "LayoutModel",
            "justify_items": null,
            "grid_row": null,
            "max_height": null,
            "align_content": null,
            "visibility": null,
            "align_self": null,
            "height": null,
            "min_height": null,
            "padding": null,
            "grid_auto_rows": null,
            "grid_gap": null,
            "max_width": null,
            "order": null,
            "_view_module_version": "1.2.0",
            "grid_template_areas": null,
            "object_position": null,
            "object_fit": null,
            "grid_auto_columns": null,
            "margin": null,
            "display": null,
            "left": null
          }
        },
        "903d5c26643847378f95c6933ffea941": {
          "model_module": "@jupyter-widgets/controls",
          "model_name": "HBoxModel",
          "state": {
            "_view_name": "HBoxView",
            "_dom_classes": [],
            "_model_name": "HBoxModel",
            "_view_module": "@jupyter-widgets/controls",
            "_model_module_version": "1.5.0",
            "_view_count": null,
            "_view_module_version": "1.5.0",
            "box_style": "",
            "layout": "IPY_MODEL_ead90dc8311b41119c6199f689fd929d",
            "_model_module": "@jupyter-widgets/controls",
            "children": [
              "IPY_MODEL_f9c80de4a64343e9885d74640711ec8c",
              "IPY_MODEL_92776df1c1fb454491bca7e1d3cb3018"
            ]
          }
        },
        "ead90dc8311b41119c6199f689fd929d": {
          "model_module": "@jupyter-widgets/base",
          "model_name": "LayoutModel",
          "state": {
            "_view_name": "LayoutView",
            "grid_template_rows": null,
            "right": null,
            "justify_content": null,
            "_view_module": "@jupyter-widgets/base",
            "overflow": null,
            "_model_module_version": "1.2.0",
            "_view_count": null,
            "flex_flow": null,
            "width": null,
            "min_width": null,
            "border": null,
            "align_items": null,
            "bottom": null,
            "_model_module": "@jupyter-widgets/base",
            "top": null,
            "grid_column": null,
            "overflow_y": null,
            "overflow_x": null,
            "grid_auto_flow": null,
            "grid_area": null,
            "grid_template_columns": null,
            "flex": null,
            "_model_name": "LayoutModel",
            "justify_items": null,
            "grid_row": null,
            "max_height": null,
            "align_content": null,
            "visibility": null,
            "align_self": null,
            "height": null,
            "min_height": null,
            "padding": null,
            "grid_auto_rows": null,
            "grid_gap": null,
            "max_width": null,
            "order": null,
            "_view_module_version": "1.2.0",
            "grid_template_areas": null,
            "object_position": null,
            "object_fit": null,
            "grid_auto_columns": null,
            "margin": null,
            "display": null,
            "left": null
          }
        },
        "f9c80de4a64343e9885d74640711ec8c": {
          "model_module": "@jupyter-widgets/controls",
          "model_name": "FloatProgressModel",
          "state": {
            "_view_name": "ProgressView",
            "style": "IPY_MODEL_4f647d4458f0484c873689ed50e8bf62",
            "_dom_classes": [],
            "description": "",
            "_model_name": "FloatProgressModel",
            "bar_style": "success",
            "max": 1,
            "_view_module": "@jupyter-widgets/controls",
            "_model_module_version": "1.5.0",
            "value": 1,
            "_view_count": null,
            "_view_module_version": "1.5.0",
            "orientation": "horizontal",
            "min": 0,
            "description_tooltip": null,
            "_model_module": "@jupyter-widgets/controls",
            "layout": "IPY_MODEL_3f41515aec6b4452b3421d82446adaa2"
          }
        },
        "92776df1c1fb454491bca7e1d3cb3018": {
          "model_module": "@jupyter-widgets/controls",
          "model_name": "HTMLModel",
          "state": {
            "_view_name": "HTMLView",
            "style": "IPY_MODEL_a75e8c29e8be4908b2b7da46a5ddc5f4",
            "_dom_classes": [],
            "description": "",
            "_model_name": "HTMLModel",
            "placeholder": "​",
            "_view_module": "@jupyter-widgets/controls",
            "_model_module_version": "1.5.0",
            "value": " 8192/? [00:01&lt;00:00, 5921.90it/s]",
            "_view_count": null,
            "_view_module_version": "1.5.0",
            "description_tooltip": null,
            "_model_module": "@jupyter-widgets/controls",
            "layout": "IPY_MODEL_1d4358429d1940d9bff52e5a1b0be8b8"
          }
        },
        "4f647d4458f0484c873689ed50e8bf62": {
          "model_module": "@jupyter-widgets/controls",
          "model_name": "ProgressStyleModel",
          "state": {
            "_view_name": "StyleView",
            "_model_name": "ProgressStyleModel",
            "description_width": "initial",
            "_view_module": "@jupyter-widgets/base",
            "_model_module_version": "1.5.0",
            "_view_count": null,
            "_view_module_version": "1.2.0",
            "bar_color": null,
            "_model_module": "@jupyter-widgets/controls"
          }
        },
        "3f41515aec6b4452b3421d82446adaa2": {
          "model_module": "@jupyter-widgets/base",
          "model_name": "LayoutModel",
          "state": {
            "_view_name": "LayoutView",
            "grid_template_rows": null,
            "right": null,
            "justify_content": null,
            "_view_module": "@jupyter-widgets/base",
            "overflow": null,
            "_model_module_version": "1.2.0",
            "_view_count": null,
            "flex_flow": null,
            "width": null,
            "min_width": null,
            "border": null,
            "align_items": null,
            "bottom": null,
            "_model_module": "@jupyter-widgets/base",
            "top": null,
            "grid_column": null,
            "overflow_y": null,
            "overflow_x": null,
            "grid_auto_flow": null,
            "grid_area": null,
            "grid_template_columns": null,
            "flex": null,
            "_model_name": "LayoutModel",
            "justify_items": null,
            "grid_row": null,
            "max_height": null,
            "align_content": null,
            "visibility": null,
            "align_self": null,
            "height": null,
            "min_height": null,
            "padding": null,
            "grid_auto_rows": null,
            "grid_gap": null,
            "max_width": null,
            "order": null,
            "_view_module_version": "1.2.0",
            "grid_template_areas": null,
            "object_position": null,
            "object_fit": null,
            "grid_auto_columns": null,
            "margin": null,
            "display": null,
            "left": null
          }
        },
        "a75e8c29e8be4908b2b7da46a5ddc5f4": {
          "model_module": "@jupyter-widgets/controls",
          "model_name": "DescriptionStyleModel",
          "state": {
            "_view_name": "StyleView",
            "_model_name": "DescriptionStyleModel",
            "description_width": "",
            "_view_module": "@jupyter-widgets/base",
            "_model_module_version": "1.5.0",
            "_view_count": null,
            "_view_module_version": "1.2.0",
            "_model_module": "@jupyter-widgets/controls"
          }
        },
        "1d4358429d1940d9bff52e5a1b0be8b8": {
          "model_module": "@jupyter-widgets/base",
          "model_name": "LayoutModel",
          "state": {
            "_view_name": "LayoutView",
            "grid_template_rows": null,
            "right": null,
            "justify_content": null,
            "_view_module": "@jupyter-widgets/base",
            "overflow": null,
            "_model_module_version": "1.2.0",
            "_view_count": null,
            "flex_flow": null,
            "width": null,
            "min_width": null,
            "border": null,
            "align_items": null,
            "bottom": null,
            "_model_module": "@jupyter-widgets/base",
            "top": null,
            "grid_column": null,
            "overflow_y": null,
            "overflow_x": null,
            "grid_auto_flow": null,
            "grid_area": null,
            "grid_template_columns": null,
            "flex": null,
            "_model_name": "LayoutModel",
            "justify_items": null,
            "grid_row": null,
            "max_height": null,
            "align_content": null,
            "visibility": null,
            "align_self": null,
            "height": null,
            "min_height": null,
            "padding": null,
            "grid_auto_rows": null,
            "grid_gap": null,
            "max_width": null,
            "order": null,
            "_view_module_version": "1.2.0",
            "grid_template_areas": null,
            "object_position": null,
            "object_fit": null,
            "grid_auto_columns": null,
            "margin": null,
            "display": null,
            "left": null
          }
        }
      }
    }
  },
  "cells": [
    {
      "cell_type": "code",
      "metadata": {
        "id": "0eDRRRbVhHKj"
      },
      "source": [
        "# from google.colab import drive\n",
        "# drive.mount('/content/drive')"
      ],
      "execution_count": null,
      "outputs": []
    },
    {
      "cell_type": "code",
      "metadata": {
        "id": "fF1HH3ti_S4H"
      },
      "source": [
        "import matplotlib\n",
        "import numpy as np\n",
        "import matplotlib.pyplot as plt\n",
        "%matplotlib inline\n",
        "\n",
        "import warnings\n",
        "warnings.filterwarnings('ignore')\n",
        "from IPython.display import clear_output\n",
        "\n",
        "import torch\n",
        "torch.random.manual_seed(0xBADBEEF)\n",
        "\n",
        "import os, sys\n",
        "sys.path.append(\"..\")\n",
        "from frcl.datasets.split_mnist import SplitMnistDataset\n",
        "from frcl.models import SplitMnistModel\n",
        "from frcl.frcl import CLBaseline, FRCL\n",
        "from torch.utils.data import DataLoader\n",
        "from frcl.utils import CLDataLoader, cl_batch_to_device, cl_batch_target_float"
      ],
      "execution_count": 12,
      "outputs": []
    },
    {
      "cell_type": "markdown",
      "metadata": {
        "id": "GMrIDEwp_S4R"
      },
      "source": [
        "# First task"
      ]
    },
    {
      "cell_type": "code",
      "metadata": {
        "id": "bSKX4Qwn_S4L"
      },
      "source": [
        "batch_size = 100\n",
        "learning_rate = 1e-5\n",
        "device = 'cuda'\n",
        "if device == 'cuda':\n",
        "    torch.cuda.empty_cache()"
      ],
      "execution_count": 13,
      "outputs": []
    },
    {
      "cell_type": "code",
      "metadata": {
        "id": "Qg9B_p6t_S4R",
        "outputId": "bc5941e3-2cec-4db4-b5b1-60492d1b2976",
        "colab": {
          "base_uri": "https://localhost:8080/",
          "height": 315,
          "referenced_widgets": [
            "36ebb4075bf54d798355da10fafa74e7",
            "7c21b442085148b986e84ba2581dbf20",
            "d26a83e9feab4fdfb1cdc23b45c85c7e",
            "33d4fbfb5937484c9e6f8fea4919f746",
            "818cefe0dfcf4a29a31d0dd38e9b4560",
            "b1496584626648038b6b86edee733f43",
            "163a35560f754987ba7ffa8c8ee08848",
            "477eb354b77b4d9094534ec52563eaba",
            "31f44b8670de45fb9742df8251f9972b",
            "5b25ccb7c5a9447d888f03b09e23d3cc",
            "aaac80db70104f56b9f6086b52423af8",
            "172084472b8a4d73996e2ac5bef1e8a8",
            "9ee0357d90f845ab99f6693a7bb3f34b",
            "9b3b81c252e446b1ad4409a6ce36b071",
            "a1be7e94768c42829b9b2b307e7d4761",
            "923386dab7804d119472432f9c501fad",
            "5c0399f84fc44cdabe06f4c14d86231f",
            "44a5a186786f4d6ba65cca07ab9b19b1",
            "23e98fc53ff247b9938aa3cb974f5592",
            "034f6d43bf994ccebf6311ebd2df0af8",
            "87d3672aec794d8089a5617d7c1a97c5",
            "b4e4cf3007414bdda6405988f905ca9b",
            "e20938c5bf104cdbba40492e75ce028b",
            "1dc4e7a8a80440c5b082cfc1460c8c62",
            "903d5c26643847378f95c6933ffea941",
            "ead90dc8311b41119c6199f689fd929d",
            "f9c80de4a64343e9885d74640711ec8c",
            "92776df1c1fb454491bca7e1d3cb3018",
            "4f647d4458f0484c873689ed50e8bf62",
            "3f41515aec6b4452b3421d82446adaa2",
            "a75e8c29e8be4908b2b7da46a5ddc5f4",
            "1d4358429d1940d9bff52e5a1b0be8b8"
          ]
        }
      },
      "source": [
        "train_0_1_dataset = SplitMnistDataset(0, 1, normalize=True)\n",
        "train_0_1_dl = DataLoader(train_0_1_dataset, batch_size=batch_size, shuffle=True)\n",
        "test_0_1_dataset = SplitMnistDataset(0, 1, train=False, normalize=True)\n",
        "test_0_1_dl = DataLoader(test_0_1_dataset, batch_size=batch_size, shuffle=False)"
      ],
      "execution_count": 14,
      "outputs": [
        {
          "output_type": "stream",
          "text": [
            "Downloading http://yann.lecun.com/exdb/mnist/train-images-idx3-ubyte.gz to ../data/MNIST/raw/train-images-idx3-ubyte.gz\n"
          ],
          "name": "stdout"
        },
        {
          "output_type": "display_data",
          "data": {
            "application/vnd.jupyter.widget-view+json": {
              "model_id": "36ebb4075bf54d798355da10fafa74e7",
              "version_minor": 0,
              "version_major": 2
            },
            "text/plain": [
              "HBox(children=(FloatProgress(value=1.0, bar_style='info', max=1.0), HTML(value='')))"
            ]
          },
          "metadata": {
            "tags": []
          }
        },
        {
          "output_type": "stream",
          "text": [
            "Extracting ../data/MNIST/raw/train-images-idx3-ubyte.gz to ../data/MNIST/raw\n",
            "Downloading http://yann.lecun.com/exdb/mnist/train-labels-idx1-ubyte.gz to ../data/MNIST/raw/train-labels-idx1-ubyte.gz\n"
          ],
          "name": "stdout"
        },
        {
          "output_type": "display_data",
          "data": {
            "application/vnd.jupyter.widget-view+json": {
              "model_id": "31f44b8670de45fb9742df8251f9972b",
              "version_minor": 0,
              "version_major": 2
            },
            "text/plain": [
              "HBox(children=(FloatProgress(value=1.0, bar_style='info', max=1.0), HTML(value='')))"
            ]
          },
          "metadata": {
            "tags": []
          }
        },
        {
          "output_type": "stream",
          "text": [
            "Extracting ../data/MNIST/raw/train-labels-idx1-ubyte.gz to ../data/MNIST/raw\n",
            "Downloading http://yann.lecun.com/exdb/mnist/t10k-images-idx3-ubyte.gz to ../data/MNIST/raw/t10k-images-idx3-ubyte.gz\n"
          ],
          "name": "stdout"
        },
        {
          "output_type": "display_data",
          "data": {
            "application/vnd.jupyter.widget-view+json": {
              "model_id": "5c0399f84fc44cdabe06f4c14d86231f",
              "version_minor": 0,
              "version_major": 2
            },
            "text/plain": [
              "HBox(children=(FloatProgress(value=1.0, bar_style='info', max=1.0), HTML(value='')))"
            ]
          },
          "metadata": {
            "tags": []
          }
        },
        {
          "output_type": "stream",
          "text": [
            "Extracting ../data/MNIST/raw/t10k-images-idx3-ubyte.gz to ../data/MNIST/raw\n",
            "Downloading http://yann.lecun.com/exdb/mnist/t10k-labels-idx1-ubyte.gz to ../data/MNIST/raw/t10k-labels-idx1-ubyte.gz\n"
          ],
          "name": "stdout"
        },
        {
          "output_type": "display_data",
          "data": {
            "application/vnd.jupyter.widget-view+json": {
              "model_id": "903d5c26643847378f95c6933ffea941",
              "version_minor": 0,
              "version_major": 2
            },
            "text/plain": [
              "HBox(children=(FloatProgress(value=1.0, bar_style='info', max=1.0), HTML(value='')))"
            ]
          },
          "metadata": {
            "tags": []
          }
        },
        {
          "output_type": "stream",
          "text": [
            "Extracting ../data/MNIST/raw/t10k-labels-idx1-ubyte.gz to ../data/MNIST/raw\n",
            "Processing...\n",
            "Done!\n"
          ],
          "name": "stdout"
        }
      ]
    },
    {
      "cell_type": "code",
      "metadata": {
        "id": "wGs1xWf73hkG"
      },
      "source": [
        "def make_x_y(hist):\n",
        "    x = np.concatenate([np.linspace(i, i + 1, len(hist[i]), endpoint=False) for i in range(len(hist))])\n",
        "    y = np.concatenate([np.asarray(epoch_hist) for epoch_hist in hist])\n",
        "    return x, y\n",
        "\n",
        "def train_model_once(train_loader, cl_model, optim, device):\n",
        "    loss_hist = []\n",
        "    curr_loss = 0.\n",
        "    upd_factor = 20\n",
        "    i = 0\n",
        "    for X in train_loader:\n",
        "       # cl_batch_to_device(X, device=device)\n",
        "        cl_batch_target_float(X)\n",
        "        optim.zero_grad()\n",
        "        loss = cl_model(X[0].cuda(), X[1].cuda(), len(train_loader) * batch_size)\n",
        "        loss.backward()\n",
        "        optim.step()\n",
        "        curr_loss += loss.item()\n",
        "        if (i + 1) % upd_factor == 0:\n",
        "            curr_loss /= upd_factor\n",
        "            loss_hist.append(curr_loss)\n",
        "            curr_loss = 0\n",
        "        i += 1\n",
        "    return loss_hist\n",
        "\n",
        "def train_model(train_loader, cl_model, optim, max_epochs, device):\n",
        "    loss_hist = []\n",
        "    for e in range(max_epochs):\n",
        "        loss = train_model_once(train_loader, cl_model, optim, device)\n",
        "        loss_hist.append(loss)\n",
        "        clear_output(wait=True)\n",
        "\n",
        "        x, y = make_x_y(loss_hist)\n",
        "        plt.plot(x, y)\n",
        "        plt.title('Loss')\n",
        "        plt.show()"
      ],
      "execution_count": 89,
      "outputs": []
    },
    {
      "cell_type": "code",
      "metadata": {
        "id": "0Jmq9MRQ_S4T"
      },
      "source": [
        "base_model = SplitMnistModel()\n",
        "cl_model = FRCL(base_model, base_model.hid, device, 1, 1).to(device)"
      ],
      "execution_count": 90,
      "outputs": []
    },
    {
      "cell_type": "code",
      "metadata": {
        "id": "bt0zUrtj_S4W"
      },
      "source": [
        "optim_0_1 = torch.optim.Adam(cl_model.parameters(), lr=learning_rate)\n",
        "train_loader = CLDataLoader()\n",
        "train_loader.append(train_0_1_dataset, batch_size)"
      ],
      "execution_count": 91,
      "outputs": []
    },
    {
      "cell_type": "code",
      "metadata": {
        "id": "aF9HypyT_S4b",
        "outputId": "c3ae2382-1966-4469-c6cb-53f4fabe7d94",
        "colab": {
          "base_uri": "https://localhost:8080/",
          "height": 281
        }
      },
      "source": [
        "train_model(train_0_1_dl, cl_model, optim_0_1, 15, device)"
      ],
      "execution_count": 92,
      "outputs": [
        {
          "output_type": "display_data",
          "data": {
            "image/png": "[encoded data removed]",
            "text/plain": [
              "<Figure size 432x288 with 1 Axes>"
            ]
          },
          "metadata": {
            "tags": [],
            "needs_background": "light"
          }
        }
      ]
    },
    {
      "cell_type": "code",
      "metadata": {
        "id": "hQ97aLiX63jx",
        "outputId": "f256c1f5-d3e2-4bdc-f1e8-e0e6c816f228",
        "colab": {
          "base_uri": "https://localhost:8080/",
          "height": 1000
        }
      },
      "source": [
        "cl_model.select_inducing(train_0_1_dl, criterion='deterministic')"
      ],
      "execution_count": 93,
      "outputs": [
        {
          "output_type": "stream",
          "text": [
            "Iteration 0 out of 300 is in progress\n",
            "Current best statistic is  897.862\n",
            "New points added  0 \n",
            "\n",
            "Iteration 10 out of 300 is in progress\n",
            "Current best statistic is  897.862\n",
            "New points added  0 \n",
            "\n",
            "Iteration 20 out of 300 is in progress\n",
            "Current best statistic is  897.862\n",
            "New points added  0 \n",
            "\n",
            "Iteration 30 out of 300 is in progress\n",
            "Current best statistic is  892.952\n",
            "New points added  1 \n",
            "\n",
            "Iteration 40 out of 300 is in progress\n",
            "Current best statistic is  892.952\n",
            "New points added  1 \n",
            "\n",
            "Iteration 50 out of 300 is in progress\n",
            "Current best statistic is  892.952\n",
            "New points added  1 \n",
            "\n",
            "Iteration 60 out of 300 is in progress\n",
            "Current best statistic is  892.952\n",
            "New points added  1 \n",
            "\n",
            "Iteration 70 out of 300 is in progress\n",
            "Current best statistic is  892.952\n",
            "New points added  1 \n",
            "\n",
            "Iteration 80 out of 300 is in progress\n",
            "Current best statistic is  890.582\n",
            "New points added  2 \n",
            "\n",
            "Iteration 90 out of 300 is in progress\n",
            "Current best statistic is  866.071\n",
            "New points added  5 \n",
            "\n",
            "Iteration 100 out of 300 is in progress\n",
            "Current best statistic is  866.071\n",
            "New points added  5 \n",
            "\n",
            "Iteration 110 out of 300 is in progress\n",
            "Current best statistic is  866.071\n",
            "New points added  5 \n",
            "\n",
            "Iteration 120 out of 300 is in progress\n",
            "Current best statistic is  866.071\n",
            "New points added  5 \n",
            "\n",
            "Iteration 130 out of 300 is in progress\n",
            "Current best statistic is  866.071\n",
            "New points added  5 \n",
            "\n",
            "Iteration 140 out of 300 is in progress\n",
            "Current best statistic is  866.071\n",
            "New points added  5 \n",
            "\n",
            "Early stop activated\n"
          ],
          "name": "stdout"
        }
      ]
    },
    {
      "cell_type": "code",
      "metadata": {
        "id": "_0R0FsrV_S4g",
        "outputId": "d4a82d9b-811e-4fdd-b965-5751d6247f91",
        "colab": {
          "base_uri": "https://localhost:8080/",
          "height": 34
        }
      },
      "source": [
        "def accuracy(cl_model, test_dl, k):\n",
        "    acc = []\n",
        "    for x, target in test_dl:\n",
        "        x_pred = cl_model.predict(x, k).cpu().numpy().argmax(axis=1)\n",
        "        acc.append(np.sum(x_pred == target.cpu().numpy())/ len(x_pred))\n",
        "    return np.mean(acc) \n",
        "print('task 0 1 after training task 0 1 accuracy:', accuracy(cl_model, test_0_1_dl, 0))  "
      ],
      "execution_count": 94,
      "outputs": [
        {
          "output_type": "stream",
          "text": [
            "task 0 1 after training task 0 1 accuracy: 0.9990909090909091\n"
          ],
          "name": "stdout"
        }
      ]
    },
    {
      "cell_type": "markdown",
      "metadata": {
        "id": "O6PFKROn_S4i"
      },
      "source": [
        "## Second task\n"
      ]
    },
    {
      "cell_type": "code",
      "metadata": {
        "id": "id4lBLle_S4i"
      },
      "source": [
        "train_2_3_dataset = SplitMnistDataset(2, 3, normalize=True)\n",
        "train_2_3_dl = DataLoader(train_2_3_dataset, batch_size=batch_size, shuffle=True)\n",
        "test_2_3_dataset = SplitMnistDataset(2, 3, train=False, normalize=True)\n",
        "test_2_3_dl = DataLoader(test_2_3_dataset, batch_size=batch_size, shuffle=False)"
      ],
      "execution_count": 95,
      "outputs": []
    },
    {
      "cell_type": "code",
      "metadata": {
        "id": "SzDtOVVh_S4k"
      },
      "source": [
        "optim_2_3 = torch.optim.Adam(cl_model.parameters(), lr=learning_rate)"
      ],
      "execution_count": 96,
      "outputs": []
    },
    {
      "cell_type": "code",
      "metadata": {
        "id": "yvFi7Dvj_S4m",
        "outputId": "d6634dcb-2e50-4548-db56-efecdd855986",
        "colab": {
          "base_uri": "https://localhost:8080/",
          "height": 281
        }
      },
      "source": [
        "train_model(train_2_3_dl, cl_model, optim_2_3, 20, device)"
      ],
      "execution_count": 97,
      "outputs": [
        {
          "output_type": "display_data",
          "data": {
            "image/png": "[encoded data removed]",
            "text/plain": [
              "<Figure size 432x288 with 1 Axes>"
            ]
          },
          "metadata": {
            "tags": [],
            "needs_background": "light"
          }
        }
      ]
    },
    {
      "cell_type": "code",
      "metadata": {
        "id": "kLvSkoeC_S4o",
        "outputId": "ad227b81-6f4f-46ab-e445-515eda2efbe5",
        "colab": {
          "base_uri": "https://localhost:8080/",
          "height": 442
        }
      },
      "source": [
        "cl_model.select_inducing(train_2_3_dl, criterion='deterministic')"
      ],
      "execution_count": 98,
      "outputs": [
        {
          "output_type": "stream",
          "text": [
            "Iteration 0 out of 300 is in progress\n",
            "Current best statistic is  1010.954\n",
            "New points added  0 \n",
            "\n",
            "Iteration 10 out of 300 is in progress\n",
            "Current best statistic is  1010.954\n",
            "New points added  0 \n",
            "\n",
            "Iteration 20 out of 300 is in progress\n",
            "Current best statistic is  1010.954\n",
            "New points added  0 \n",
            "\n",
            "Iteration 30 out of 300 is in progress\n",
            "Current best statistic is  1010.954\n",
            "New points added  0 \n",
            "\n",
            "Iteration 40 out of 300 is in progress\n",
            "Current best statistic is  1010.954\n",
            "New points added  0 \n",
            "\n",
            "Iteration 50 out of 300 is in progress\n",
            "Current best statistic is  1010.954\n",
            "New points added  0 \n",
            "\n",
            "Early stop activated\n"
          ],
          "name": "stdout"
        }
      ]
    },
    {
      "cell_type": "code",
      "metadata": {
        "id": "_Q_vTcit_S4q",
        "outputId": "d7e6af2a-99be-42a0-f598-786625a35b05",
        "colab": {
          "base_uri": "https://localhost:8080/",
          "height": 51
        }
      },
      "source": [
        "print('task 0 1 after training task 2 3 accuracy:', accuracy(cl_model, test_0_1_dl, 0))   \n",
        "print('task 2 3 after training task 2 3 accuracy:', accuracy(cl_model, test_2_3_dl, 1))   "
      ],
      "execution_count": 99,
      "outputs": [
        {
          "output_type": "stream",
          "text": [
            "task 0 1 after training task 2 3 accuracy: 0.9968181818181818\n",
            "task 2 3 after training task 2 3 accuracy: 0.9815419501133787\n"
          ],
          "name": "stdout"
        }
      ]
    },
    {
      "cell_type": "markdown",
      "metadata": {
        "id": "AT-MWAmQ_S4s"
      },
      "source": [
        "# Third task"
      ]
    },
    {
      "cell_type": "code",
      "metadata": {
        "id": "a_TB2AW5_S4t"
      },
      "source": [
        "train_4_5_dataset = SplitMnistDataset(4, 5, normalize=True)\n",
        "train_4_5_dl = DataLoader(train_4_5_dataset, batch_size=batch_size, shuffle=True)\n",
        "test_4_5_dataset = SplitMnistDataset(4, 5, train=False, normalize=True)\n",
        "test_4_5_dl = DataLoader(test_4_5_dataset, batch_size=batch_size, shuffle=False)"
      ],
      "execution_count": 100,
      "outputs": []
    },
    {
      "cell_type": "code",
      "metadata": {
        "id": "AmdHu84X_S4v",
        "outputId": "e063c8b3-7724-4a5f-dc43-bc556d2057a6",
        "colab": {
          "base_uri": "https://localhost:8080/",
          "height": 281
        }
      },
      "source": [
        "optim_4_5 = torch.optim.Adam(cl_model.parameters(), lr=learning_rate)\n",
        "train_model(train_4_5_dl, cl_model, optim_4_5, 20, device)"
      ],
      "execution_count": 101,
      "outputs": [
        {
          "output_type": "display_data",
          "data": {
            "image/png": "[encoded data removed]",
            "text/plain": [
              "<Figure size 432x288 with 1 Axes>"
            ]
          },
          "metadata": {
            "tags": [],
            "needs_background": "light"
          }
        }
      ]
    },
    {
      "cell_type": "code",
      "metadata": {
        "id": "DmUiZCPE_S4x",
        "outputId": "c102ee3f-500c-4034-af29-55e3c32a7837",
        "colab": {
          "base_uri": "https://localhost:8080/",
          "height": 578
        }
      },
      "source": [
        "cl_model.select_inducing(train_4_5_dl, criterion='deterministic')"
      ],
      "execution_count": 102,
      "outputs": [
        {
          "output_type": "stream",
          "text": [
            "Iteration 0 out of 300 is in progress\n",
            "Current best statistic is  879.158\n",
            "New points added  1 \n",
            "\n",
            "Iteration 10 out of 300 is in progress\n",
            "Current best statistic is  875.057\n",
            "New points added  2 \n",
            "\n",
            "Iteration 20 out of 300 is in progress\n",
            "Current best statistic is  838.999\n",
            "New points added  3 \n",
            "\n",
            "Iteration 30 out of 300 is in progress\n",
            "Current best statistic is  838.999\n",
            "New points added  3 \n",
            "\n",
            "Iteration 40 out of 300 is in progress\n",
            "Current best statistic is  838.999\n",
            "New points added  3 \n",
            "\n",
            "Iteration 50 out of 300 is in progress\n",
            "Current best statistic is  838.999\n",
            "New points added  3 \n",
            "\n",
            "Iteration 60 out of 300 is in progress\n",
            "Current best statistic is  838.999\n",
            "New points added  3 \n",
            "\n",
            "Iteration 70 out of 300 is in progress\n",
            "Current best statistic is  838.999\n",
            "New points added  3 \n",
            "\n",
            "Early stop activated\n"
          ],
          "name": "stdout"
        }
      ]
    },
    {
      "cell_type": "code",
      "metadata": {
        "id": "weqPHPu0_S4z",
        "outputId": "75412f29-5504-4cb5-cf3d-344eb7af6bd0",
        "colab": {
          "base_uri": "https://localhost:8080/",
          "height": 68
        }
      },
      "source": [
        "print('task 0 1 after training task 4 5 accuracy:', accuracy(cl_model, test_0_1_dl, 0))   \n",
        "print('task 2 3 after training task 4 5 accuracy:', accuracy(cl_model, test_2_3_dl, 1))   \n",
        "print('task 4 5 after training task 4 5 accuracy:', accuracy(cl_model, test_4_5_dl, 2))   "
      ],
      "execution_count": 103,
      "outputs": [
        {
          "output_type": "stream",
          "text": [
            "task 0 1 after training task 4 5 accuracy: 0.9949999999999999\n",
            "task 2 3 after training task 4 5 accuracy: 0.9745124716553287\n",
            "task 4 5 after training task 4 5 accuracy: 0.9984210526315789\n"
          ],
          "name": "stdout"
        }
      ]
    }
  ]
}