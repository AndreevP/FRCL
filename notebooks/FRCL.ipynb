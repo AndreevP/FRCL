{
      "cell_type": "code",
      "metadata": {
        "id": "0eDRRRbVhHKj",
        "outputId": "8cce6087-1584-42e9-af31-0a06ab567fa1",
        "colab": {
          "base_uri": "https://localhost:8080/",
          "height": 34
        }
      },
      "source": [
        "from google.colab import drive\n",
        "drive.mount('/content/drive')"
      ],
      "execution_count": 1,
      "outputs": [
        {
          "output_type": "stream",
          "text": [
            "Mounted at /content/drive\n"
          ],
          "name": "stdout"
        }
      ]
    },
    {
      "cell_type": "code",
      "metadata": {
        "id": "fF1HH3ti_S4H"
      },
      "source": [
        "import matplotlib\n",
        "import numpy as np\n",
        "import matplotlib.pyplot as plt\n",
        "%matplotlib inline\n",
        "\n",
        "import warnings\n",
        "warnings.filterwarnings('ignore')\n",
        "from IPython.display import clear_output\n",
        "\n",
        "import torch\n",
        "torch.random.manual_seed(0xBADBEEF)\n",
        "\n",
        "import os, sys\n",
        "sys.path.append(\"drive/My Drive/FRCL\")\n",
        "from frcl.datasets.split_mnist import SplitMnistDataset\n",
        "from frcl.models import SplitMnistModel\n",
        "from frcl.frcl import CLBaseline, FRCL\n",
        "from torch.utils.data import DataLoader\n",
        "from frcl.utils import CLDataLoader, cl_batch_to_device, cl_batch_target_float"
      ],
      "execution_count": 2,
      "outputs": []
    },
    {
      "cell_type": "markdown",
      "metadata": {
        "id": "GMrIDEwp_S4R"
      },
      "source": [
        "# First task"
      ]
    },
    {
      "cell_type": "code",
      "metadata": {
        "id": "bSKX4Qwn_S4L"
      },
      "source": [
        "batch_size = 100\n",
        "learning_rate = 1e-5\n",
        "device = 'cuda'\n",
        "if device == 'cuda':\n",
        "    torch.cuda.empty_cache()"
      ],
      "execution_count": 3,
      "outputs": []
    },
    {
      "cell_type": "code",
      "metadata": {
        "id": "Qg9B_p6t_S4R",
        "outputId": "8924683e-1bb8-42f9-dd19-c6aa1b9a9bbf",
        "colab": {
          "base_uri": "https://localhost:8080/",
          "height": 349,
          "referenced_widgets": [
            "c01cc423c2134db8b63781497f9745ea",
            "6944f0d96ceb4ccc8a8a36016d639b4b",
            "dde9463e3679442ea140c8162705bb61",
            "b14a52265ad044f1b84b883c76c2bbaf",
            "8048ba50f7ec420791802b6618dce186",
            "145e2acd86d746a29a82686fcfb9d991",
            "42786baa67444ba5a0a8deff62192d87",
            "16af7a8483ad48908cde9d44a833c7d2",
            "905c37abc19041bfa9b94d7dac7cec91",
            "7e498f01abd240e9866a6f169d0e4d18",
            "ecd7e3baa5a24442a3f00f95a625cc33",
            "c557ff8f4b3d4ff8aef95a0aa31d1187",
            "9bf72fabbbe14fff8a555dcc71493d0e",
            "e21d256893f64cf5aba1f8c64bf0e225",
            "066bc2194ae342e1beb7dbada9d46eec",
            "678e7333fee7459b91eb2a11d69a434a",
            "5089c449116a4c3cbd76fe6cd8aaac59",
            "659c3dccdae24411be72ae6abc1ab3ff",
            "8869b1e679484df39a52f459c04f0012",
            "421e0fbb439b48da803ee88f12cc68da",
            "3ceaeeb222a04d2493cbfb1e6bdec247",
            "c00ffacff94d4ff49d8f50e955136e97",
            "bbd7c35cbb2e44ebb0ff94eed2826503",
            "795d956f60f243498cf773ea38356d5d",
            "7274528e4d6d4674a5b3468f70c4f1ee",
            "377f18e78aff452fae88cd10007ae837",
            "5431018c4a924cfc869809f7afab8a71",
            "5f6c57cd20da4c368221ab32e9698346",
            "e0c70468f64144cf8bb06ce9597497e6",
            "373ae1f556864adcbd49c88006c8ed33",
            "a6481d46cef1443a99a7b7cf83ba3f03",
            "22fa88791b904dc6aeecb53d9500d3b4"
          ]
        }
      },
      "source": [
        "train_0_1_dataset = SplitMnistDataset(0, 1, normalize=True)\n",
        "train_0_1_dl = DataLoader(train_0_1_dataset, batch_size=batch_size, shuffle=True)\n",
        "test_0_1_dataset = SplitMnistDataset(0, 1, train=False, normalize=True)\n",
        "test_0_1_dl = DataLoader(test_0_1_dataset, batch_size=batch_size, shuffle=False)"
      ],
      "execution_count": 4,
      "outputs": [
        {
          "output_type": "stream",
          "text": [
            "Downloading http://yann.lecun.com/exdb/mnist/train-images-idx3-ubyte.gz to ../data/MNIST/raw/train-images-idx3-ubyte.gz\n"
          ],
          "name": "stdout"
        },
        {
          "output_type": "display_data",
          "data": {
            "application/vnd.jupyter.widget-view+json": {
              "model_id": "c01cc423c2134db8b63781497f9745ea",
              "version_minor": 0,
              "version_major": 2
            },
            "text/plain": [
              "HBox(children=(FloatProgress(value=1.0, bar_style='info', max=1.0), HTML(value='')))"
            ]
          },
          "metadata": {
            "tags": []
          }
        },
        {
          "output_type": "stream",
          "text": [
            "Extracting ../data/MNIST/raw/train-images-idx3-ubyte.gz to ../data/MNIST/raw\n",
            "Downloading http://yann.lecun.com/exdb/mnist/train-labels-idx1-ubyte.gz to ../data/MNIST/raw/train-labels-idx1-ubyte.gz\n"
          ],
          "name": "stdout"
        },
        {
          "output_type": "display_data",
          "data": {
            "application/vnd.jupyter.widget-view+json": {
              "model_id": "905c37abc19041bfa9b94d7dac7cec91",
              "version_minor": 0,
              "version_major": 2
            },
            "text/plain": [
              "HBox(children=(FloatProgress(value=1.0, bar_style='info', max=1.0), HTML(value='')))"
            ]
          },
          "metadata": {
            "tags": []
          }
        },
        {
          "output_type": "stream",
          "text": [
            "Extracting ../data/MNIST/raw/train-labels-idx1-ubyte.gz to ../data/MNIST/raw\n",
            "Downloading http://yann.lecun.com/exdb/mnist/t10k-images-idx3-ubyte.gz to ../data/MNIST/raw/t10k-images-idx3-ubyte.gz\n"
          ],
          "name": "stdout"
        },
        {
          "output_type": "display_data",
          "data": {
            "application/vnd.jupyter.widget-view+json": {
              "model_id": "5089c449116a4c3cbd76fe6cd8aaac59",
              "version_minor": 0,
              "version_major": 2
            },
            "text/plain": [
              "HBox(children=(FloatProgress(value=1.0, bar_style='info', max=1.0), HTML(value='')))"
            ]
          },
          "metadata": {
            "tags": []
          }
        },
        {
          "output_type": "stream",
          "text": [
            "Extracting ../data/MNIST/raw/t10k-images-idx3-ubyte.gz to ../data/MNIST/raw\n",
            "Downloading http://yann.lecun.com/exdb/mnist/t10k-labels-idx1-ubyte.gz to ../data/MNIST/raw/t10k-labels-idx1-ubyte.gz\n",
            "\n",
            "\n"
          ],
          "name": "stdout"
        },
        {
          "output_type": "display_data",
          "data": {
            "application/vnd.jupyter.widget-view+json": {
              "model_id": "7274528e4d6d4674a5b3468f70c4f1ee",
              "version_minor": 0,
              "version_major": 2
            },
            "text/plain": [
              "HBox(children=(FloatProgress(value=1.0, bar_style='info', max=1.0), HTML(value='')))"
            ]
          },
          "metadata": {
            "tags": []
          }
        },
        {
          "output_type": "stream",
          "text": [
            "Extracting ../data/MNIST/raw/t10k-labels-idx1-ubyte.gz to ../data/MNIST/raw\n",
            "Processing...\n",
            "Done!\n"
          ],
          "name": "stdout"
        }
      ]
    },
    {
      "cell_type": "code",
      "metadata": {
        "id": "wGs1xWf73hkG"
      },
      "source": [
        "def make_x_y(hist):\n",
        "    x = np.concatenate([np.linspace(i, i + 1, len(hist[i]), endpoint=False) for i in range(len(hist))])\n",
        "    y = np.concatenate([np.asarray(epoch_hist) for epoch_hist in hist])\n",
        "    return x, y\n",
        "\n",
        "def train_model_once(train_loader, cl_model, optim, device):\n",
        "    loss_hist = []\n",
        "    curr_loss = 0.\n",
        "    upd_factor = 20\n",
        "    i = 0\n",
        "    for X in train_loader:\n",
        "       # cl_batch_to_device(X, device=device)\n",
        "        cl_batch_target_float(X)\n",
        "        optim.zero_grad()\n",
        "        loss = cl_model(X[0].cuda(), X[1].cuda(), len(train_loader) * batch_size)\n",
        "        loss.backward()\n",
        "        optim.step()\n",
        "        curr_loss += loss.item()\n",
        "        if (i + 1) % upd_factor == 0:\n",
        "            curr_loss /= upd_factor\n",
        "            loss_hist.append(curr_loss)\n",
        "            curr_loss = 0\n",
        "        i += 1\n",
        "    return loss_hist\n",
        "\n",
        "def train_model(train_loader, cl_model, optim, max_epochs, device):\n",
        "    loss_hist = []\n",
        "    for e in range(max_epochs):\n",
        "        loss = train_model_once(train_loader, cl_model, optim, device)\n",
        "        loss_hist.append(loss)\n",
        "        clear_output(wait=True)\n",
        "\n",
        "        x, y = make_x_y(loss_hist)\n",
        "        plt.plot(x, y)\n",
        "        plt.title('Loss')\n",
        "        plt.show()"
      ],
      "execution_count": 5,
      "outputs": []
    },
    {
      "cell_type": "code",
      "metadata": {
        "id": "0Jmq9MRQ_S4T"
      },
      "source": [
        "base_model = SplitMnistModel()\n",
        "cl_model = FRCL(base_model, base_model.hid, device, 1, multiclass=False).to(device)"
      ],
      "execution_count": 20,
      "outputs": []
    },
    {
      "cell_type": "code",
      "metadata": {
        "id": "bt0zUrtj_S4W"
      },
      "source": [
        "optim_0_1 = torch.optim.Adam(cl_model.parameters(), lr=learning_rate)\n",
        "train_loader = CLDataLoader()\n",
        "train_loader.append(train_0_1_dataset, batch_size)"
      ],
      "execution_count": 21,
      "outputs": []
    },
    {
      "cell_type": "code",
      "metadata": {
        "id": "wZ4kBIMLtj-3"
      },
      "source": [
        "cl_model.create_new_task(out_dim=1)"
      ],
      "execution_count": 24,
      "outputs": []
    },
    {
      "cell_type": "code",
      "metadata": {
        "id": "aF9HypyT_S4b",
        "outputId": "faf41900-88fb-497f-cde3-b4e4be65e579",
        "colab": {
          "base_uri": "https://localhost:8080/",
          "height": 281
        }
      },
      "source": [
        "train_model(train_0_1_dl, cl_model, optim_0_1, 15, device)"
      ],
      "execution_count": 25,
      "outputs": [
        {
          "output_type": "display_data",
          "data": {
            "image/png": "iVBORw0KGgoAAAANSUhEUgAAAXQAAAEICAYAAABPgw/pAAAABHNCSVQICAgIfAhkiAAAAAlwSFlzAAALEgAACxIB0t1+/AAAADh0RVh0U29mdHdhcmUAbWF0cGxvdGxpYiB2ZXJzaW9uMy4yLjIsIGh0dHA6Ly9tYXRwbG90bGliLm9yZy+WH4yJAAAgAElEQVR4nO3deXxV9Z3/8dcnNzvZgASSkABBkB0FI6CoP9cWd1uro3WsTludRbuNv/lVpzN2ndbW39S2P+3MOHax2kqtdSq1WKUuFRUtAVkEBMKeBbJA9uXm3vv9/XFvIIQAAZKc3Hvfz8cjD3LPPcl9B8g733zPOd9jzjlERCT6JXgdQEREBoYKXUQkRqjQRURihApdRCRGqNBFRGKECl1EJEao0EVEYoQKXWKeme0ys8u9ziEy2FToIiIxQoUuccnMUszsB2ZWFXn7gZmlRJ7LNbMXzazBzA6Y2QozS4g892UzqzSzZjPbYmaXefuViByW6HUAEY98BVgInA044AXgX4B/Be4DKoC8yL4LAWdmU4F7gXOdc1VmNhHwDW1skWPTCF3i1W3AN5xzNc65WuDrwO2R57qAAmCCc67LObfChRc9CgIpwAwzS3LO7XLObfckvUgfVOgSrwqB3T0e745sA3gYKAdeMbMdZnY/gHOuHPgi8DWgxsyWmFkhIsOECl3iVRUwocfj8ZFtOOeanXP3OecmAdcB/9g9V+6c+5Vz7oLIxzrgu0MbW+TYVOgSL5LMLLX7DXgG+BczyzOzXOBB4GkAM7vGzCabmQGNhKdaQmY21cwujRw87QDagZA3X47I0VToEi+WES7g7rdUoAxYD2wA1gDfiuw7BfgT0AKsBH7snHud8Pz5Q0AdsA8YAzwwdF+CyPGZbnAhIhIbNEIXEYkRKnQRkRihQhcRiREqdBGRGOHZpf+5ublu4sSJXr28iEhUWr16dZ1zLq+v5zwr9IkTJ1JWVubVy4uIRCUz232s5zTlIiISI1ToIiIxQoUuIhIjVOgiIjFChS4iEiNU6CIiMUKFLiISI6Ku0FftOsD3/vghoZBWiRQR6SnqCn3d3gZ+/MZ2WvwBr6OIiAwrUVfoWWlJADS2dXmcRERkeOlXoZvZYjPbYmbl3TfM7fX8eDN73czeN7P1ZnbVwEcNy0qNFHq7Cl1EpKcTFrqZ+YDHgCuBGcCtZjaj127/AjzrnJsL3AL8eKCDdsuOjNCbOlToIiI99WeEPh8od87tcM75gSXA9b32cUBW5P1sIndPHwyHCl0jdBGRI/Sn0McBe3s8rohs6+lrwF+bWQXhm/F+rq9PZGZ3m1mZmZXV1taeQlzISgsvEKkpFxGRIw3UQdFbgZ8754qAq4CnzOyoz+2ce9w5V+qcK83L63M53xPqHqGr0EVEjtSfQq8Eins8Lops6+kzwLMAzrmVQCqQOxABe8tIScSXYDS167RFEZGe+lPoq4ApZlZiZsmED3ou7bXPHuAyADObTrjQT21O5QTMjKzURI3QRUR6OWGhO+cCwL3Ay8BmwmezbDSzb5jZdZHd7gPuMrN1wDPAnc65QbuUMystSYUuItJLv25B55xbRvhgZ89tD/Z4fxOwaGCjHVt2WpJOWxQR6SXqrhSFcKFrhC4icqSoLPSsVBW6iEhv0VnoaUk6y0VEpJeoLPTstCSa2rsYxOOuIiJRJyoLPSstEX8wREdXyOsoIiLDRlQWuhboEhE5WlQXug6MiogcFpWFrjXRRUSOFpWFriV0RUSOFtWFrhG6iMhhUVnoWSp0EZGjRGehp+omFyIivUVloSf6EshISdTVoiIiPURloQNaE11EpJfoLXStuCgicoSoLXStiS4icqSoLfSsyAJdIiISFrWFrptciIgcKaoLXSN0EZHDorbQs1KTaPUH6QpqCV0REYjiQs9OC19cpFG6iEhY9BZ6evea6Lq4SEQEorjQtYSuiMiRorbQteKiiMiRor7QNYcuIhIWtYWuJXRFRI4UtYWuKRcRkSNFbaGnJvlITkzQlIuISETUFjqEz3TRAl0iImFRXejZaVoTXUSkW5QXuhboEhHpFtWFHl5CV1eKiohAlBe6RugiIoep0EVEYkRUF3pWahLNHV2EQs7rKCIinovqQs9OSyLkoMWveXQRkagvdIDGNk27iIj0q9DNbLGZbTGzcjO7v4/nHzGztZG3rWbWMPBRj5bVfZMLXVwkIkLiiXYwMx/wGHAFUAGsMrOlzrlN3fs4577UY//PAXMHIetRtECXiMhh/RmhzwfKnXM7nHN+YAlw/XH2vxV4ZiDCnYiW0BUROaw/hT4O2NvjcUVk21HMbAJQArx2jOfvNrMyMyurra092axH6b5rkS4uEhEZ+IOitwDPOeeCfT3pnHvcOVfqnCvNy8s77Rfrvq9oQ7v/tD+XiEi060+hVwLFPR4XRbb15RaGaLoFIDMlkbQkH/ubOofqJUVEhq3+FPoqYIqZlZhZMuHSXtp7JzObBowEVg5sxGMzMwpzUqlqaB+qlxQRGbZOWOjOuQBwL/AysBl41jm30cy+YWbX9dj1FmCJc25IL9sszElToYuI0I/TFgGcc8uAZb22Pdjr8dcGLlb/FWansbm62YuXFhEZVqL6SlEIj9DrWjrpDPR5HFZEJG7EQKGnArCvscPjJCIi3or6Qh+XkwZApebRRSTORX2hF0QKvbpBI3QRiW/RX+jZ4SkXnekiIvEu6gs9NclHbkYyVY0qdBGJb1Ff6AAF2WlUaspFROJcTBR6YU4q1ZpyEZE4FyOFHr5adIgvUhURGVZiotDH5aTR6g9qGV0RiWsxUegF2eFTF3VgVETiWUwUevfVojp1UUTiWUwUevfVoip0EYlnMVHouRkpJPlMpy6KSFyLiUJPSDDys1Op1hy6iMSxmCh0CK+LrikXEYlnMVPo43LSqNKUi4jEsZgp9IKcVPY1dRAM6eIiEYlPMVPohTlpBEOOmmaN0kUkPsVUoYNOXRSR+BUzhX74zkUaoYtIfIqZQu++0YVWXRSReBUzhZ6ZmkRmaqKmXEQkbsVMoUN42kVTLiISr2Kq0Atz0nS1qIjErZgq9OKRaeyqayWkc9FFJA7FVKFPK8ii1R9k78E2r6OIiAy5mCr06QVZAGyubvI4iYjI0IupQp86NpMEg03VzV5HEREZcjFV6GnJPibmjtAIXUTiUkwVOoSnXVToIhKPYq7QZxRkUXGwnaaOLq+jiIgMqZgsdIAPNY8uInEm5gpdZ7qISLyKuUIfm5XCyPQkFbqIxJ2YK3Qz04FREYlLMVfoEJ522bK/WbejE5G40q9CN7PFZrbFzMrN7P5j7HOzmW0ys41m9quBjXlyphdk0dEVYmddq5cxRESGVOKJdjAzH/AYcAVQAawys6XOuU099pkCPAAscs4dNLMxgxW4P6YXZALhA6OTx2R4GUVEZMj0Z4Q+Hyh3zu1wzvmBJcD1vfa5C3jMOXcQwDlXM7AxT87kMRkkJpjm0UUkrvSn0McBe3s8rohs6+lM4Ewze9vM3jWzxQMV8FSkJPqYPCZDhS4iceWEUy4n8XmmABcDRcCbZjbbOdfQcyczuxu4G2D8+PED9NJ9m16Qxcrt9YP6GiIiw0l/RuiVQHGPx0WRbT1VAEudc13OuZ3AVsIFfwTn3OPOuVLnXGleXt6pZu6X6QWZ7Gvq4ECrf1BfR0RkuOhPoa8CpphZiZklA7cAS3vt8zvCo3PMLJfwFMyOAcx50rqvGN1UpWkXEYkPJyx051wAuBd4GdgMPOuc22hm3zCz6yK7vQzUm9km4HXgn5xzns53nFWcgy/BWLmjzssYIiJDxpzz5uKb0tJSV1ZWNqivcdN/vkNHV4jff+6CQX0dEZGhYmarnXOlfT0Xk1eKdrtwSh4fVDVS39LpdRQRkUEX44Wei3Pwts52EZE4ENOFPqcoh+y0JFZsrfU6iojIoIvpQvclGBdMzmXFtjq8OlYgIjJUYrrQITztsq+pg201LV5HEREZVDFf6BdMyQXgTU27iEiMi/lCLxqZzqS8EazYpvPRRSS2xXyhA1w0JY/3dtbT0RX0OoqIyKCJj0I/M5eOrhBluw56HUVEZNDERaEvKBlNks9YsU3z6CISu+Ki0EekJHLuxFEs37xfpy+KSMyKi0IHuHJWPjtqW9m6X6cvikhsiptC/+isfMzgDxuqvY4iIjIo4qbQx2SmMn/iKJap0EUkRsVNoQNcPaeA8poWtu5v9jqKiMiAi6tCX9w97bJeo3QRiT1xVehjMlM5V9MuIhKj4qrQAa6eXcC2mha2adpFRGJM3BV697TLsg37vI4iIjKg4q7Qx2alUjphpKZdRCTmxF2hQ3jaZcv+ZjZWNXodRURkwMRlod8wdxzpyT5+8tZOr6OIiAyYuCz0nPRkbi4tZunaKvY1dngdR0RkQMRloQN8elEJIef4+Tu7vI4iIjIg4rbQx49OZ/GsfH753m5aOgNexxEROW1xW+gAd104ieaOAM+u2ut1FBGR0xbXhT53/EhKJ4zkJ2/tJBAMeR1HROS0xHWhA9x10SQqG9p56QNdaCQi0S3uC/3y6WMpyR3Bf6/YobsZiUhUi/tC9yUYn7mghPUVjby744DXcURETlncFzrAJ84pYvSIZB5/c7vXUURETpkKHUhN8nHH+RN5fUutbn4hIlFLhR5x+8IJpCX5ePzNHV5HERE5JSr0iJEjkrm5tIgX1lZqOQARiUoq9B4+e+EkgiHHz97Rol0iEn1U6D0Uj0rnqtkF/OrdPTS2d3kdR0TkpKjQe/n7i8+guTPAUyt3eR1FROSkqNB7mVmYzaXTxvCTt3bSqkW7RCSK9KvQzWyxmW0xs3Izu7+P5+80s1ozWxt5++zARx0691wymYNtXfzqvT1eRxER6bcTFrqZ+YDHgCuBGcCtZjajj11/7Zw7O/L2xADnHFLnTBjJosmjeXzFDjq6gl7HERHpl/6M0OcD5c65Hc45P7AEuH5wY3nv3kumUNvcybNlWlpXRKJDfwp9HNCz1Soi23q70czWm9lzZlbc1ycys7vNrMzMympra08h7tBZOGkU50wYyX/9eQf+gJbWFZHhb6AOiv4emOicmwMsB57sayfn3OPOuVLnXGleXt4AvfTgMDPuvXQylQ3tXPHIn3ng+fW8sLaSxjadzigiw1N/Cr0S6DniLopsO8Q5V++c64w8fAI4Z2DieeviM/P43o1zmDImgxfXV/OFJWu55tEVumWdiAxL/Sn0VcAUMysxs2TgFmBpzx3MrKDHw+uAzQMX0Ttmxs3nFvPEHeey9sGP8MSnSqk42M5DL8XElyciMeaEhe6cCwD3Ai8TLupnnXMbzewbZnZdZLfPm9lGM1sHfB64c7ACe8WXYFw+YyyfXlTC0+/u4Z3tdV5HEhE5gnl1l57S0lJXVlbmyWufjnZ/kCt/+CYhB3/84oWkJyd6HUlE4oiZrXbOlfb1nK4UPUlpyT6+e+Mc9hxo43t/3OJ1HBGRQzS8PAULJo3mjvMm8OTKXTS0+fmbRSWcVZzjdSwRiXMq9FN0/5XTSUgwflNWwe/WVjF3fA4PXDmd+SWjvI4mInFKUy6nKC3Zx1evncnKBy7la9fOoKapk0//fBXlNS1eRxOROKVCP02ZqUncuaiE3/zdeaQmJXD3L8po6tDFRyIy9FToA6QwJ40f33YOew608cUlawmFvDl7SETilwp9AM0vGcVXr53Bax/W8MiftnodR0TijAp9gP31wgn8VWkx/++1cjZVNXkdR0TiiAp9gJkZ/3z1dDJTEnn09W1HPR8MOZo1xy4ig0CFPgiy05K4c9FElm3Yx5Z9zYe2O+f4u6dXc9H3Xqeqod3DhCISi1Tog+TTi0oYkezj0dfLD2371V/2sHzTfhrbu/jSr9cS1IFTERlAKvRBMnJEMrefN5EX11dRXtPCjtoWvvXiZi6ckstDN87hvZ0H+M8/b/c6pojEEF0pOog+e2EJT76zix+9uo3dB9pITkzg4U+cxdisFP68tZZHlm/lgsm5WjZARAaERuiDKDcjhdsWjGfpuirW7W3gOx+fTX52KmbGt2+YzZjMFL6w5H1qmjq8jioiMUCFPsjuvmgSmSmJ3HROEVfNPnwfkOz0JB75q7OpONjOou++xheXvM/avQ0eJhWRaKf10IdAY1sXWWmJmNlRz+2qa+XJlbv4TVkFLZ0BpuVn8tGZ+VwxYywzC7P6/BgRiV/HWw9dhT5MtHQG+O3qCl5cX0XZ7oM4B0Uj0/jcpZO5cV4RiT79MiUiKvSoU9fSyWuba3hm1R7e39PAlDEZ3H/lNC6dNkYjdpE4p0KPUs45Xt64j+/9cQs76loZkexjdEYKuRnJh/8cEf5z8awC8rNTvY4sIoNMhR7luoIhfvd+JZurm6lv7aSupZO6Zj/1rX4OtHYScpCW5OMfLj6Duy6aRGqSz+vIIjJIjlfoOg89CiT5EriptLjP50Ihx676Vh5+eQv/vnwrS1bt5Z5LJnPeGaOZODpdUzQicUQj9Biycns9X//9Rj6MrB+Tm5HMuRNHcc8lk5k1LtvjdCIyEDTlEkdCIUd5bQtluw5StvsAf95Sy8E2P586byL3feRMMlOTvI4oIqdBhR7HGtu7+PdXtvDUu7vJy0jhlvnjyc9KZUxmCpPyRjApL8PriCJyElTowrq9DTy4dCPrel2N+m8fm8VtCyZ4lEpETpYOigpnFefwwj2L8AdC1LV0UtPcyY9e3cZX/ucDQg5uXxgu9ZbOAI++Vs472+vIy0hhbHYq43LSuGHuOMblpHn8VYjI8WiEHsc6A0H+4ek1vPphDV+/biaZqYl856UPqW3uZH7JKJo7Auxv6uBAq5+UxAT+9qJJ/N3FZ5CerHGAiFc05SLH1BkIcs8v3+dPm/cDcFZRNl+/fhZn91jSt7KhnYde+pDfr6tibFYK184ppNUfpKm9i0AoxNVzCrlyVj5Jx1me4ECrn9SkBP0wEDlNKnQ5Ln8gxPeXb2VS3gg+Ma+IhIS+z10v23WAb/1hM5uqm8hKTSI7LZF2f5Cqxg7ys1L51PkTuOmcYvIyUw59TGNbF4/8aStPvbubkHNMHD2CafmZFOak4Q+E8AdChJzjgim5fHRmvi6KEjkBFboMmlDI8fqWGn769k7eLq/HDOYW53DFjHxSkxL40avbaGzv4pb54xmbmcrm6iY272uitrmTlMQEUhJ9+IMhDrT6yUxJ5Oo5BfzNohKm5md6/aWJDEsqdBkS2/Y3s2zDPpZv3scHlU0ALJw0iq9eO5PpBVnH/LhQyPHuznp+u7qSlz6oBuCJT5Vy/uTcY+7/07d38ocN1WSkJJKTnszI9CTOmzSaS6aN0ShfYpoKXYZcVUM7+5o6mFucc1LLD9Q0dXD7T/7CzvpWHvvkPK6YMfao5+/7zTpWbKtj9rhsfAlGY3sXtc2dtHQGyExJZPGsfG5bOOGI4wAisUKFLlGloc3PHT9bxQeVjXzz+llMzc+kuaOLyoZ2/v2VrbT5Azx4zUxunV986IdFIBhi5Y56fvd+FS9v3EerP8A/XHwGX7z8zOMerBWJNip0iTotnQHuerKMlTvqj9g+oyCLH916NpPHHHuOvbUzwDdf3MSSVXuZU5TND/7qbHwJxobKRjZVNXFGXgY3zB2Hr8fB346uIC+srSTJl8Ccomwm5WYc8+CwiJdU6BKVOrqCvF1ehy/ByExNIis1kZLcEf2+e9NLG6q5//kNNLZ3HdpmBs7BzMIsvnrtTM6ZMJLn11Tw/eVbqW48fLPujJREZhRmMbMwi5mF2UzLzyTJl0BnIEhnIERhTpoutBJPqNAlblU3tvPMX/ZSkJ3K7HHZTBmbwcsb9/OdZZupjpxuua+pg7OKsvny4mnkZqawvqKRDRUNrK9s5MPqZtq7gkd9XjP4X2fmcduCCVwyNU+3CJQho0IX6aXdH+S/3tzOyu313H7eBK6eXdDnwdtgyLGzroWt+1sASElMIDkxgbJdB1myag/7mzopyE7l6tkFXDm7gLnFOcedqjnQ6mfZhmqWrq1ia00zSb4Ekn0JjByRxLc/Nps5RTqQK8d32oVuZouBHwI+4Ann3EPH2O9G4DngXOfccdtahS7RrisY4tXNNTxbtpcV22rpCjoKslO5fPpYLpySy3lnjCYjJZHtta28ta2WN7bW8ta2OgIhx5QxGcwvGUUw5PAHQ7wTOYf/95+7gNyMlBO/uMSt0yp0M/MBW4ErgApgFXCrc25Tr/0ygT8AycC9KnSJJ43tXby6eT/LNuzjne11tPmD+BKMUSOSqW3uBGDC6HQWz8znurMLmVGQdcRvBB9UNnLjf7zD2cU5PP3ZBad9Zk5LZ4BgyJGdpvXvY83prrY4Hyh3zu2IfLIlwPXApl77fRP4LvBPp5FVJCplpyXx8XlFfHxeEf5AiDV7DrJiWy17D7SzYNIoLpycx/jR6cf8+FnjsvnOx2fzj8+u4zvLPuTBa2cctY9zjjV7GthQ0cCu+jZ217fiD4ZYUDKaRZNHM2tcNu/tOMBv11Twxw/24RxcM6eAO86fyFmncE5+Y1sXK3fUUdfip66lk+aOAPNLRnHx1DxSEvt38VZTRxeBoGPUiOSTfn05ef0p9HHA3h6PK4AFPXcws3lAsXPuD2Z2zEI3s7uBuwHGjx9/8mlFokByYgILJ41m4aTRJ/VxH59XxPqKRn769k5y0pP42NxxFI8K/xBYvfsAD7+8hXd3HADCZ+GMjzz3yJ+28v3lkGAQcpCVmshNpUUkmPHb1RU8/34lMwqyKMhOJTlyDCA10Udaso/0ZB8F2ancVFp8xBW2m6qauOsXZVQ2tB/xdf3krZ1kpiby0Zn5LCgZRU56MtlpSYxI8dEZCNHuD9LSGWBDRSNvb69jfUUjCQaPfXIeH5mZf7p/tXIC/Zly+QSw2Dn32cjj24EFzrl7I48TgNeAO51zu8zsDeB/a8pF5OR1BUN85sky3txaC8DkMRnkZaSwckc9uRnJ3HPJZK6ZU0huRvKhKZuDrX5W7qhn7d4GzirK4bLph5c/aO7o4vk1lSzbUE2rP0BnVwh/MFy87f4gbV1BgiFH0cg0/vWaGXxkxlhe2bSfL/16LVmpSTx80xzOHJvJqBHJGPD29nqWrq3ilY37aO4MHPPr8CUYc4qyWXRGLivK69hY2cijn5zH4lkDU+pdwRDrKxp4u7yeYMjx2QtL4ub2iqc7h34e8DXn3Ecjjx8AcM59J/I4G9gOtEQ+JB84AFx3vFJXoYv0zTnH9tpW3thSwxtbatlZ18ptC8dz5/kTB2X54Xd31PPVFzayZX8zs8dls6GykbOKc/jv289hTFZqnx/TGQiyr7GDxvYumtoDtHQGSElKID0pPPKfmDuCrEjBNnV0ccdP/8KGikYe/eRcZhZm89IH1SzbsI8dtS34EgxfgpHsS+CMMRnMLMxmZmEWuRkpdAVDBEIh2vxBKg62s/dAG3sOtLFm90Fa/UG6D0PkZ6Xybx+bxaXTxvaZN5acbqEnEj4oehlQSfig6CedcxuPsf8baIQuElUCwRBPvbubR5Zv5fLpY/n2x2cP6CJnzZFSf39vA92VM3tcNvPG5+CAQMjR7g+yZV8z22qa6Qr23Us56UkUj0wPj/4n53LepNHsPtDGl59bz5b9zVx3ViHfvGHWsDkYXNPUwa9X7aW2pZOvXD2938cejmcgTlu8CvgB4dMWf+qc+zcz+wZQ5pxb2mvfN1Chi0SlUMgN2pIHLZ0BvvvShxSPSuPKWQWHjg/01hkIsm1/C80dAZJ8RqIvgdSkBApz0g6N+nvzB0L8+I1yHn2tnOkFWTz9mQVkp5+41APBEJurm6lr7WTRGbkkJx4+u6ixrYvH3ihnze6DjByRTG5GMqNGJDMyPZmstCRy0pIYNSKZ0RkpjM5IZkRyIvUtnexr6qDiYDtL11bxp837CYTCHXvD2YV8/+azT/vvVxcWiUhceHXzfv7+6TWcmZ/B059ZQE764bNrAsEQu+rb2La/mS37m3l/TwOrdx+kJXIsYGxWCrcvnMDNpcX8YUM1P4ys5T9v/EhaOgLUt/o50NpJqJ+VOTI9iZtLi7ll/niWbajm4Ze38PcXn8GXF087ra9RhS4iceP1D2v426dXMzkvg69fP5OyXQd5q7yWsl0H6QyEgPDSDd0Xd507cRRpST6eenc3K7bVHfo8F0zO5Z+vms6MwsNr+YdCjhZ/gMa2LhraujjQ5qe+pZP6Fj/NnQHyMpIZm5VKfnYqU/MzD02xOOf4yu8+4Ffv7eGbN8w6dFP2U6FCF5G48uettdz1izL8kQKfOjaT8yePZmZhNlPHZjJ5TAZpyUfPZ2/b38zSdVXMGz+Si6fmndRa/icSCIb426dW8/qWGv7r9tKj1vrvLxW6iMSdTVVNbKtp5rxJo495ts5Qa/MHuOeXa/j8ZVOYO37kKX0OFbqISIw4XqFrzU8RkRihQhcRiREqdBGRGKFCFxGJESp0EZEYoUIXEYkRKnQRkRihQhcRiRGeXVhkZrXA7lP88Fyg7oR7eUsZB4YyDoxoyAjRkdPrjBOcc3l9PeFZoZ8OMys71pVSw4UyDgxlHBjRkBGiI+dwzqgpFxGRGKFCFxGJEdFa6I97HaAflHFgKOPAiIaMEB05h23GqJxDFxGRo0XrCF1ERHpRoYuIxIioK3QzW2xmW8ys3Mzu9zpPb2ZWbGavm9kmM9toZl/wOtOxmJnPzN43sxe9ztIXM8sxs+fM7EMz22xm53mdqTcz+1Lk3/kDM3vGzDy/NY6Z/dTMaszsgx7bRpnZcjPbFvnz1G6XM7gZH478W683s/8xs5zhlrHHc/eZmTOzXC+yHUtUFbqZ+YDHgCuBGcCtZjbD21RHCQD3OedmAAuBe4Zhxm5fADZ7HeI4fgj80Tk3DTiLYZbVzMYBnwdKnXOzAB9wi7epAPg5sLjXtvuBV51zU4BXI4+99HOOzrgcmOWcmwNsBR4Y6lC9/JyjM2JmxcBHgD1DHehEoqrQgflAuXNuh3PODywBrvc40xGcc9XOuTWR95sJl9A4b1MdzcyKgKuBJ7zO0hczywYuAn4C4JzzO+cavE3Vp0QgzcwSgXSgyuM8OOfeBA702rck80QAAAJ2SURBVHw98GTk/SeBG4Y0VC99ZXTOveKcC0QevgsUDXmwI/P09fcI8Ajwf4Bhd0ZJtBX6OGBvj8cVDMOy7GZmE4G5wHveJunTDwj/pwx5HeQYSoBa4GeRaaEnzGyE16F6cs5VAv+X8EitGmh0zr3ibapjGuucq468vw84tVvOD51PAy95HaI3M7seqHTOrfM6S1+irdCjhpllAL8Fvuica/I6T09mdg1Q45xb7XWW40gE5gH/4ZybC7Ti/TTBESLz0NcT/uFTCIwws7/2NtWJufC5ysNudNnNzL5CeOryl15n6cnM0oF/Bh70OsuxRFuhVwLFPR4XRbYNK2aWRLjMf+mce97rPH1YBFxnZrsIT1tdamZPexvpKBVAhXOu+7eb5wgX/HByObDTOVfrnOsCngfO9zjTsew3swKAyJ81Hufpk5ndCVwD3OaG30UyZxD+4b0u8r1TBKwxs3xPU/UQbYW+CphiZiVmlkz4ANRSjzMdwcyM8LzvZufc973O0xfn3APOuSLn3ETCf4evOeeG1cjSObcP2GtmUyObLgM2eRipL3uAhWaWHvl3v4xhduC2h6XAHZH37wBe8DBLn8xsMeFpwOucc21e5+nNObfBOTfGOTcx8r1TAcyL/F8dFqKq0CMHTO4FXib8jfOsc26jt6mOsgi4nfCod23k7SqvQ0WpzwG/NLP1wNnAtz3Oc4TIbw/PAWuADYS/nzy/LNzMngFWAlPNrMLMPgM8BFxhZtsI/2bx0DDM+CiQCSyPfN/85zDMOKzp0n8RkRgRVSN0ERE5NhW6iEiMUKGLiMQIFbqISIxQoYuIxAgVuohIjFChi4jEiP8Pp+W1PEvx1tIAAAAASUVORK5CYII=\n",
            "text/plain": [
              "<Figure size 432x288 with 1 Axes>"
            ]
          },
          "metadata": {
            "tags": [],
            "needs_background": "light"
          }
        }
      ]
    },
    {
      "cell_type": "code",
      "metadata": {
        "id": "hQ97aLiX63jx",
        "outputId": "82f483b0-aebc-49e5-9f5f-eed88473e131",
        "colab": {
          "base_uri": "https://localhost:8080/",
          "height": 1000
        }
      },
      "source": [
        "cl_model.select_inducing(train_0_1_dl, criterion='deterministic')"
      ],
      "execution_count": 26,
      "outputs": [
        {
          "output_type": "stream",
          "text": [
            "Iteration 0 out of 300 is in progress\n",
            "Current best statistic is  578.184\n",
            "New points added  0 \n",
            "\n",
            "Iteration 10 out of 300 is in progress\n",
            "Current best statistic is  562.972\n",
            "New points added  1 \n",
            "\n",
            "Iteration 20 out of 300 is in progress\n",
            "Current best statistic is  562.972\n",
            "New points added  1 \n",
            "\n",
            "Iteration 30 out of 300 is in progress\n",
            "Current best statistic is  562.972\n",
            "New points added  1 \n",
            "\n",
            "Iteration 40 out of 300 is in progress\n",
            "Current best statistic is  561.011\n",
            "New points added  2 \n",
            "\n",
            "Iteration 50 out of 300 is in progress\n",
            "Current best statistic is  561.011\n",
            "New points added  2 \n",
            "\n",
            "Iteration 60 out of 300 is in progress\n",
            "Current best statistic is  561.011\n",
            "New points added  2 \n",
            "\n",
            "Iteration 70 out of 300 is in progress\n",
            "Current best statistic is  551.253\n",
            "New points added  3 \n",
            "\n",
            "Iteration 80 out of 300 is in progress\n",
            "Current best statistic is  551.253\n",
            "New points added  3 \n",
            "\n",
            "Iteration 90 out of 300 is in progress\n",
            "Current best statistic is  551.253\n",
            "New points added  3 \n",
            "\n",
            "Iteration 100 out of 300 is in progress\n",
            "Current best statistic is  551.253\n",
            "New points added  3 \n",
            "\n",
            "Iteration 110 out of 300 is in progress\n",
            "Current best statistic is  551.253\n",
            "New points added  3 \n",
            "\n",
            "Iteration 120 out of 300 is in progress\n",
            "Current best statistic is  551.253\n",
            "New points added  3 \n",
            "\n",
            "Iteration 130 out of 300 is in progress\n",
            "Current best statistic is  551.253\n",
            "New points added  3 \n",
            "\n",
            "Iteration 140 out of 300 is in progress\n",
            "Current best statistic is  551.253\n",
            "New points added  3 \n",
            "\n",
            "Early stop activated!\n"
          ],
          "name": "stdout"
        }
      ]
    },
    {
      "cell_type": "code",
      "metadata": {
        "id": "_0R0FsrV_S4g",
        "outputId": "40eb2d96-b5ac-49ae-e262-0645eb5ff179",
        "colab": {
          "base_uri": "https://localhost:8080/",
          "height": 34
        }
      },
      "source": [
        "def accuracy(cl_model, test_dl, k):\n",
        "    acc = []\n",
        "    for x, target in test_dl:\n",
        "        x_pred = cl_model.predict(x, k).cpu().numpy().argmax(axis=1)\n",
        "        acc.append(np.sum(x_pred == target.cpu().numpy())/ len(x_pred))\n",
        "    return np.mean(acc) \n",
        "print('task 0 1 after training task 0 1 accuracy:', accuracy(cl_model, test_0_1_dl, 0))  "
      ],
      "execution_count": 27,
      "outputs": [
        {
          "output_type": "stream",
          "text": [
            "task 0 1 after training task 0 1 accuracy: 0.9990909090909091\n"
          ],
          "name": "stdout"
        }
      ]
    },
    {
      "cell_type": "markdown",
      "metadata": {
        "id": "O6PFKROn_S4i"
      },
      "source": [
        "## Second task\n"
      ]
    },
    {
      "cell_type": "code",
      "metadata": {
        "id": "id4lBLle_S4i"
      },
      "source": [
        "train_2_3_dataset = SplitMnistDataset(2, 3, normalize=True)\n",
        "train_2_3_dl = DataLoader(train_2_3_dataset, batch_size=batch_size, shuffle=True)\n",
        "test_2_3_dataset = SplitMnistDataset(2, 3, train=False, normalize=True)\n",
        "test_2_3_dl = DataLoader(test_2_3_dataset, batch_size=batch_size, shuffle=False)"
      ],
      "execution_count": 28,
      "outputs": []
    },
    {
      "cell_type": "code",
      "metadata": {
        "id": "SzDtOVVh_S4k"
      },
      "source": [
        "optim_2_3 = torch.optim.Adam(cl_model.parameters(), lr=learning_rate)"
      ],
      "execution_count": 29,
      "outputs": []
    },
    {
      "cell_type": "code",
      "metadata": {
        "id": "dphGj1vgvQFZ"
      },
      "source": [
        "cl_model.create_new_task(1)"
      ],
      "execution_count": 30,
      "outputs": []
    },
    {
      "cell_type": "code",
      "metadata": {
        "id": "yvFi7Dvj_S4m",
        "outputId": "5d1fb6d1-98da-4cd3-83f3-a45be91f81df",
        "colab": {
          "base_uri": "https://localhost:8080/",
          "height": 281
        }
      },
      "source": [
        "train_model(train_2_3_dl, cl_model, optim_2_3, 20, device)"
      ],
      "execution_count": 31,
      "outputs": [
        {
          "output_type": "display_data",
          "data": {
            "image/png": "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\n",
            "text/plain": [
              "<Figure size 432x288 with 1 Axes>"
            ]
          },
          "metadata": {
            "tags": [],
            "needs_background": "light"
          }
        }
      ]
    },
    {
      "cell_type": "code",
      "metadata": {
        "id": "kLvSkoeC_S4o",
        "outputId": "dd17b460-d934-4095-c3ae-c449b9b3ead5",
        "colab": {
          "base_uri": "https://localhost:8080/",
          "height": 646
        }
      },
      "source": [
        "cl_model.select_inducing(train_2_3_dl, criterion='deterministic')"
      ],
      "execution_count": 32,
      "outputs": [
        {
          "output_type": "stream",
          "text": [
            "Iteration 0 out of 300 is in progress\n",
            "Current best statistic is  918.043\n",
            "New points added  1 \n",
            "\n",
            "Iteration 10 out of 300 is in progress\n",
            "Current best statistic is  907.267\n",
            "New points added  4 \n",
            "\n",
            "Iteration 20 out of 300 is in progress\n",
            "Current best statistic is  907.267\n",
            "New points added  4 \n",
            "\n",
            "Iteration 30 out of 300 is in progress\n",
            "Current best statistic is  907.267\n",
            "New points added  4 \n",
            "\n",
            "Iteration 40 out of 300 is in progress\n",
            "Current best statistic is  907.267\n",
            "New points added  4 \n",
            "\n",
            "Iteration 50 out of 300 is in progress\n",
            "Current best statistic is  907.267\n",
            "New points added  4 \n",
            "\n",
            "Iteration 60 out of 300 is in progress\n",
            "Current best statistic is  907.267\n",
            "New points added  4 \n",
            "\n",
            "Iteration 70 out of 300 is in progress\n",
            "Current best statistic is  907.267\n",
            "New points added  4 \n",
            "\n",
            "Iteration 80 out of 300 is in progress\n",
            "Current best statistic is  907.267\n",
            "New points added  4 \n",
            "\n",
            "Early stop activated!\n"
          ],
          "name": "stdout"
        }
      ]
    },
    {
      "cell_type": "code",
      "metadata": {
        "id": "_Q_vTcit_S4q",
        "outputId": "01b1a6c5-a331-4967-9094-a8193036e33f",
        "colab": {
          "base_uri": "https://localhost:8080/",
          "height": 51
        }
      },
      "source": [
        "print('task 0 1 after training task 2 3 accuracy:', accuracy(cl_model, test_0_1_dl, 0))   \n",
        "print('task 2 3 after training task 2 3 accuracy:', accuracy(cl_model, test_2_3_dl, 1))   "
      ],
      "execution_count": 33,
      "outputs": [
        {
          "output_type": "stream",
          "text": [
            "task 0 1 after training task 2 3 accuracy: 0.9981818181818181\n",
            "task 2 3 after training task 2 3 accuracy: 0.9791609977324262\n"
          ],
          "name": "stdout"
        }
      ]
    },
    {
      "cell_type": "markdown",
      "metadata": {
        "id": "AT-MWAmQ_S4s"
      },
      "source": [
        "# Third task"
      ]
    },
    {
      "cell_type": "code",
      "metadata": {
        "id": "a_TB2AW5_S4t"
      },
      "source": [
        "train_4_5_dataset = SplitMnistDataset(4, 5, normalize=True)\n",
        "train_4_5_dl = DataLoader(train_4_5_dataset, batch_size=batch_size, shuffle=True)\n",
        "test_4_5_dataset = SplitMnistDataset(4, 5, train=False, normalize=True)\n",
        "test_4_5_dl = DataLoader(test_4_5_dataset, batch_size=batch_size, shuffle=False)"
      ],
      "execution_count": 34,
      "outputs": []
    },
    {
      "cell_type": "code",
      "metadata": {
        "id": "6ARkvKd5vVTb"
      },
      "source": [
        "cl_model.create_new_task(1)"
      ],
      "execution_count": 35,
      "outputs": []
    },
    {
      "cell_type": "code",
      "metadata": {
        "id": "AmdHu84X_S4v"
      },
      "source": [
        "optim_4_5 = torch.optim.Adam(cl_model.parameters(), lr=learning_rate)"
      ],
      "execution_count": 36,
      "outputs": []
    },
    {
      "cell_type": "code",
      "metadata": {
        "id": "vTpnIuAyvaGz",
        "outputId": "4e12f550-4638-4a2d-e374-58021e368695",
        "colab": {
          "base_uri": "https://localhost:8080/",
          "height": 281
        }
      },
      "source": [
        "train_model(train_4_5_dl, cl_model, optim_4_5, 20, device)"
      ],
      "execution_count": 37,
      "outputs": [
        {
          "output_type": "display_data",
          "data": {
            "image/png": "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\n",
            "text/plain": [
              "<Figure size 432x288 with 1 Axes>"
            ]
          },
          "metadata": {
            "tags": [],
            "needs_background": "light"
          }
        }
      ]
    },
    {
      "cell_type": "code",
      "metadata": {
        "id": "DmUiZCPE_S4x",
        "outputId": "356d80e2-6680-4bb4-8cfa-b0a5b5f47194",
        "colab": {
          "base_uri": "https://localhost:8080/",
          "height": 646
        }
      },
      "source": [
        "cl_model.select_inducing(train_4_5_dl, criterion='deterministic')"
      ],
      "execution_count": 38,
      "outputs": [
        {
          "output_type": "stream",
          "text": [
            "Iteration 0 out of 300 is in progress\n",
            "Current best statistic is  727.784\n",
            "New points added  0 \n",
            "\n",
            "Iteration 10 out of 300 is in progress\n",
            "Current best statistic is  712.977\n",
            "New points added  2 \n",
            "\n",
            "Iteration 20 out of 300 is in progress\n",
            "Current best statistic is  712.977\n",
            "New points added  2 \n",
            "\n",
            "Iteration 30 out of 300 is in progress\n",
            "Current best statistic is  712.977\n",
            "New points added  2 \n",
            "\n",
            "Iteration 40 out of 300 is in progress\n",
            "Current best statistic is  712.977\n",
            "New points added  2 \n",
            "\n",
            "Iteration 50 out of 300 is in progress\n",
            "Current best statistic is  712.977\n",
            "New points added  2 \n",
            "\n",
            "Iteration 60 out of 300 is in progress\n",
            "Current best statistic is  712.977\n",
            "New points added  2 \n",
            "\n",
            "Iteration 70 out of 300 is in progress\n",
            "Current best statistic is  712.977\n",
            "New points added  2 \n",
            "\n",
            "Iteration 80 out of 300 is in progress\n",
            "Current best statistic is  712.977\n",
            "New points added  2 \n",
            "\n",
            "Early stop activated!\n"
          ],
          "name": "stdout"
        }
      ]
    },
    {
      "cell_type": "code",
      "metadata": {
        "id": "weqPHPu0_S4z",
        "outputId": "dfddfd7b-2e81-459e-d302-39fda84e95df",
        "colab": {
          "base_uri": "https://localhost:8080/",
          "height": 68
        }
      },
      "source": [
        "print('task 0 1 after training task 4 5 accuracy:', accuracy(cl_model, test_0_1_dl, 0))   \n",
        "print('task 2 3 after training task 4 5 accuracy:', accuracy(cl_model, test_2_3_dl, 1))   \n",
        "print('task 4 5 after training task 4 5 accuracy:', accuracy(cl_model, test_4_5_dl, 2))   "
      ],
      "execution_count": 39,
      "outputs": [
        {
          "output_type": "stream",
          "text": [
            "task 0 1 after training task 4 5 accuracy: 0.995909090909091\n",
            "task 2 3 after training task 4 5 accuracy: 0.9563492063492062\n",
            "task 4 5 after training task 4 5 accuracy: 0.996842105263158\n"
          ],
          "name": "stdout"
        }
      ]
    }
  ]
}